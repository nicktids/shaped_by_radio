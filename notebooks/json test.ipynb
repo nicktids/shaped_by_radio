{
 "cells": [
  {
   "cell_type": "code",
   "execution_count": null,
   "metadata": {},
   "outputs": [],
   "source": [
    "import requests\n",
    "import urllib\n",
    "import json\n",
    "import lxml.html\n",
    "from lxml import etree\n",
    "import logging\n",
    "from bs4 import BeautifulSoup"
   ]
  },
  {
   "cell_type": "code",
   "execution_count": null,
   "metadata": {},
   "outputs": [],
   "source": [
    "url = 'https://www.bbc.co.uk/programmes/'\n",
    "end ='b09y1xkp'\n",
    "\n",
    "\n",
    "MAH = 'https://www.bbc.co.uk/programmes/b01pp0xq/episodes/player'\n",
    "\n",
    "\n",
    "\n",
    "# These two lines enable debugging at httplib level (requests->urllib3->http.client)\n",
    "# You will see the REQUEST, including HEADERS and DATA, and RESPONSE with HEADERS but without DATA.\n",
    "# The only thing missing will be the response.body which is not logged.\n",
    "try:\n",
    "    import http.client as http_client\n",
    "except ImportError:\n",
    "    # Python 2\n",
    "    import httplib as http_client\n",
    "http_client.HTTPConnection.debuglevel = 1\n",
    "\n",
    "# You must initialize logging, otherwise you'll not see debug output.\n",
    "logging.basicConfig()\n",
    "logging.getLogger().setLevel(logging.DEBUG)\n",
    "requests_log = logging.getLogger(\"requests.packages.urllib3\")\n",
    "requests_log.setLevel(logging.DEBUG)\n",
    "requests_log.propagate = True\n",
    "\n",
    "\n",
    "url_get = url + end\n",
    "url_get_segments = url_get + '/segments.inc'\n",
    "url_get_segments_json = url_get + '/segments.json'\n",
    "\n",
    "session = requests.Session()\n",
    "session.headers.update({'User-Agent': 'Mozilla/5.0 (Macintosh; Intel Mac OS X 10_9_2) AppleWebKit/537.36 (KHTML, like Gecko) Chrome/34.0.1847.131 Safari/537.36'})\n",
    "html = session.get(url_get)\n",
    "# seg1 = session.get(url_get_segments)\n",
    "\n",
    "sessionCookies = html.cookies\n",
    "\n",
    "# seg_json = session.get(url_get_segments_json, cookies = sessionCookies)"
   ]
  },
  {
   "cell_type": "code",
   "execution_count": null,
   "metadata": {},
   "outputs": [],
   "source": [
    "sessionCookies.get_dict()"
   ]
  },
  {
   "cell_type": "code",
   "execution_count": null,
   "metadata": {},
   "outputs": [],
   "source": [
    "response = session.get('http://google.com')\n",
    "print(session.cookies.get_dict())"
   ]
  },
  {
   "cell_type": "code",
   "execution_count": null,
   "metadata": {},
   "outputs": [],
   "source": [
    "\n",
    "session = requests.Session()\n",
    "html = session.get(url_get)\n",
    "session.cookies"
   ]
  },
  {
   "cell_type": "code",
   "execution_count": null,
   "metadata": {},
   "outputs": [],
   "source": [
    "session.headers"
   ]
  },
  {
   "cell_type": "code",
   "execution_count": null,
   "metadata": {},
   "outputs": [],
   "source": [
    "html = session.get(url_get)"
   ]
  },
  {
   "cell_type": "code",
   "execution_count": null,
   "metadata": {},
   "outputs": [],
   "source": [
    "print(session.cookies.get_dict())"
   ]
  },
  {
   "cell_type": "code",
   "execution_count": null,
   "metadata": {},
   "outputs": [],
   "source": [
    "seg_json = session.get(url_get_segments_json)"
   ]
  },
  {
   "cell_type": "code",
   "execution_count": null,
   "metadata": {},
   "outputs": [],
   "source": [
    "for x in session.cookies:\n",
    "    print(x)"
   ]
  },
  {
   "cell_type": "code",
   "execution_count": null,
   "metadata": {},
   "outputs": [],
   "source": [
    "url_get_segments_json"
   ]
  },
  {
   "cell_type": "code",
   "execution_count": null,
   "metadata": {},
   "outputs": [],
   "source": [
    "session.cookies.update({\n",
    "  'ptimizelyEndUserId':'oeu1551249247507r0.812459418636283',\n",
    "    'ckns_sa_labels_persist':\"\",\n",
    "    'ckns_orb_fig_cache':\"%22ad%22:1%2C%22ap%22:16%2C%22ck%22:0%2C%22eu%22:0%2C%22uk%22:0\",\n",
    "    'ckns_policy':\"111\",\n",
    "    '_em_vt':'ac5f6e7d-f1c5-42f3-a0b3-fd3c20b80b66-1692da97858-ac125950; ecos.dt=1559784164690; atuserid=%7B%22name%22%3A%22atuserid%22%2C%22val%22%3A%2283530ecc-732e-47d5-bf9c-0c95aace96d7%22%2C%22options%22%3A%7B%22end%22%3A%222020-07-07T12%3A58%3A59.073Z%22%2C%22path%22%3A%22%2F%22%7D%7D'\n",
    "})"
   ]
  },
  {
   "cell_type": "code",
   "execution_count": null,
   "metadata": {},
   "outputs": [],
   "source": [
    "session.cookies.update({\n",
    "        'optimizelyEndUserId': 'oeu1551249247507r0.812459418636283',\n",
    "    })"
   ]
  },
  {
   "cell_type": "code",
   "execution_count": null,
   "metadata": {},
   "outputs": [],
   "source": [
    "headers = {\n",
    "    'accept' :'text/html,application/xhtml+xml,application/xml;q=0.9,image/webp,image/apng,*/*;q=0.8,application/signed-exchange;v=b3',\n",
    "    'upgrade-insecure-requests': '1',\n",
    "    'desktop':\"1\",\n",
    "    \"User-Agent\": \"Mozilla/5.0 (Windows NT 10.0; Win64; x64) AppleWebKit/537.36 (KHTML, like Gecko) Chrome/67.0.3396.99 Safari/537.36\",\n",
    "}"
   ]
  },
  {
   "cell_type": "code",
   "execution_count": null,
   "metadata": {},
   "outputs": [],
   "source": [
    "seg_json = session.get(url_get_segments_json,headers=headers)\n"
   ]
  },
  {
   "cell_type": "code",
   "execution_count": null,
   "metadata": {},
   "outputs": [],
   "source": [
    "print(session.cookies.get_dict())"
   ]
  },
  {
   "cell_type": "code",
   "execution_count": null,
   "metadata": {},
   "outputs": [],
   "source": [
    "session.cookie = 'optimizelyEndUserId=oeu1551249247507r0.812459418636283; ckns_sa_labels_persist={}; ckns_orb_fig_cache={%22ad%22:1%2C%22ap%22:16%2C%22ck%22:0%2C%22eu%22:0%2C%22uk%22:0}; ckns_policy=111; _em_vt=ac5f6e7d-f1c5-42f3-a0b3-fd3c20b80b66-1692da97858-ac125950; ecos.dt=1559784164690; atuserid=%7B%22name%22%3A%22atuserid%22%2C%22val%22%3A%2283530ecc-732e-47d5-bf9c-0c95aace96d7%22%2C%22options%22%3A%7B%22end%22%3A%222020-07-07T12%3A58%3A59.073Z%22%2C%22path%22%3A%22%2F%22%7D%7D'"
   ]
  },
  {
   "cell_type": "code",
   "execution_count": null,
   "metadata": {},
   "outputs": [],
   "source": [
    "seg_json.text"
   ]
  },
  {
   "cell_type": "code",
   "execution_count": null,
   "metadata": {},
   "outputs": [],
   "source": [
    "html.cookies"
   ]
  },
  {
   "cell_type": "code",
   "execution_count": null,
   "metadata": {},
   "outputs": [],
   "source": [
    "my_cookies = {'_em_vt': 'ac5f6e7d-f1c5-42f3-a0b3-fd3c20b80b66-1692da97858-ac125950',\n",
    "              'atuserid': '%7B%22name%22%3A%22atuserid%22%2C%22val%22%3A%2283530ecc-732e-47d5-bf9c-0c95aace96d7%22%2C%22options%22%3A%7B%22end%22%3A%222020-07-07T12%3A58%3A59.073Z%22%2C%22path%22%3A%22%2F%22%7D%7D',\n",
    "              'ckns_orb_fig_cache':'{%22ad%22:1%2C%22ap%22:16%2C%22ck%22:0%2C%22eu%22:0%2C%22uk%22:0}',\n",
    "                'ckns_policy':'111',\n",
    "             'ckns_sa_labels_persist':'',\n",
    "             'ecos.dt': '1559784164690',\n",
    "             'optimizelyEndUserId':'oeu1551249247507r0.812459418636283'}\n",
    "response = requests.get(\n",
    "    'https://www.bbc.co.uk/programmes/b09y1wkb/segments.json',\n",
    "#     'https://www.bbc.co.uk/programmes/b0b11d3n/segments.json',\n",
    "    cookies=my_cookies)"
   ]
  },
  {
   "cell_type": "code",
   "execution_count": null,
   "metadata": {},
   "outputs": [],
   "source": [
    "# my_cookies = {'optimizelyEndUserId':''}\n",
    "response = requests.get(\n",
    "    'https://www.bbc.co.uk/programmes/b0b11d3n/segments.json',)\n",
    "#     cookies=my_cookies)"
   ]
  },
  {
   "cell_type": "code",
   "execution_count": null,
   "metadata": {},
   "outputs": [],
   "source": [
    "response.text"
   ]
  },
  {
   "cell_type": "code",
   "execution_count": null,
   "metadata": {},
   "outputs": [],
   "source": [
    "response.text"
   ]
  },
  {
   "cell_type": "code",
   "execution_count": null,
   "metadata": {},
   "outputs": [],
   "source": [
    "'https://www.bbc.co.uk/programmes/b0b11d3n'\n",
    "    \n",
    "my_cookies = {'optimizelyEndUserId':''}\n",
    "response = requests.get(\n",
    "    'https://www.bbc.co.uk/programmes/b0b11d3n/segments.json',\n",
    "    cookies=my_cookies)"
   ]
  },
  {
   "cell_type": "code",
   "execution_count": null,
   "metadata": {},
   "outputs": [],
   "source": [
    "response"
   ]
  },
  {
   "cell_type": "code",
   "execution_count": 47,
   "metadata": {},
   "outputs": [],
   "source": [
    "import requests\n",
    "\n",
    "session = requests.Session()\n",
    "my_cookies = {'_em_vt': '',\n",
    "              'atuserid': '',\n",
    "              'ckns_orb_fig_cache':'',\n",
    "                'ckns_policy':'',\n",
    "             'ckns_sa_labels_persist':'',\n",
    "             'ecos.dt': '',\n",
    "             'optimizelyEndUserId':''}\n",
    "headers = {\n",
    "    \"upgrade-insecure-requests\": '1',\n",
    "    \"User-Agent\": \"Mozilla/5.0 (Windows NT 10.0; Win64; x64) AppleWebKit/537.36 (KHTML, like Gecko) Chrome/67.0.3396.99 Safari/537.36\",\n",
    "}"
   ]
  },
  {
   "cell_type": "code",
   "execution_count": 35,
   "metadata": {},
   "outputs": [],
   "source": [
    "response2 = session.get(\n",
    "    'https://www.bbc.co.uk/programmes/b09y1wkb/segments.json',\n",
    "#     'https://www.bbc.co.uk/programmes/b0b11d3n/segments.json',\n",
    "    cookies=my_cookies,headers=headers)"
   ]
  },
  {
   "cell_type": "code",
   "execution_count": 63,
   "metadata": {},
   "outputs": [],
   "source": [
    "response3 = session.get(\n",
    "#     'https://www.bbc.co.uk/programmes/b09y1wkb/segments.json',\n",
    "#     'https://www.bbc.co.uk/programmes/b0b11c0n/segments.inc',\n",
    "#     'https://www.bbc.co.uk/programmes/m0005l7w/segments.inc',\n",
    "    'https://www.bbc.co.uk/programmes/m0005l7w/segments.json',\n",
    "    headers=headers)"
   ]
  },
  {
   "cell_type": "code",
   "execution_count": 41,
   "metadata": {},
   "outputs": [
    {
     "data": {
      "text/plain": [
       "'{\"segment_events\":[{\"title\":null,\"pid\":\"p0651fmp\",\"short_synopsis\":\"\",\"medium_synopsis\":\"\",\"long_synopsis\":\"\",\"version_offset\":18,\"position\":1,\"is_chapter\":false,\"has_snippet\":false,\"segment\":{\"type\":\"music\",\"pid\":\"p0651fmn\",\"duration\":163,\"primary_contributor\":{\"pid\":\"p012dw7p\",\"musicbrainz_gid\":\"fb5d53ea-6090-49cd-b8ab-0d200bacf4c3\",\"name\":\"Dobie Gray\"},\"artist\":\"Dobie Gray\",\"track_title\":\"The In Crowd\",\"track_number\":null,\"publisher\":\"Cross Music Limited\",\"record_label\":\"Columbia\",\"release_title\":\"Originals 2  (Various Artists)\",\"record_id\":\"nz22vg\",\"catalogue_number\":null,\"contributions\":[{\"pid\":\"p012dw7p\",\"name\":\"Dobie Gray\",\"role\":\"Performer\",\"musicbrainz_gid\":\"fb5d53ea-6090-49cd-b8ab-0d200bacf4c3\"}],\"title\":\"The In Crowd\",\"short_synopsis\":null,\"medium_synopsis\":null,\"long_synopsis\":null}},{\"title\":null,\"pid\":\"p0651fyr\",\"short_synopsis\":\"\",\"medium_synopsis\":\"\",\"long_synopsis\":\"\",\"version_offset\":180,\"position\":2,\"is_chapter\":false,\"has_snippet\":false,\"segment\":{\"type\":\"music\",\"pid\":\"p063vxkh\",\"duration\":238,\"primary_contributor\":{\"pid\":\"p012d7r3\",\"musicbrainz_gid\":\"52074ba6-e495-4ef3-9bb4-0703888a9f68\",\"name\":\"Arcade Fire\"},\"artist\":\"Arcade Fire\",\"track_title\":\"Put Your Money On Me\",\"track_number\":null,\"publisher\":\"EMI Music Publishing Limited\",\"record_label\":\"Columbia\",\"release_title\":null,\"record_id\":\"n4xfm6\",\"catalogue_number\":null,\"contributions\":[{\"pid\":\"p012d7r3\",\"name\":\"Arcade Fire\",\"role\":\"Performer\",\"musicbrainz_gid\":\"52074ba6-e495-4ef3-9bb4-0703888a9f68\"}],\"title\":\"Put Your Money On Me\",\"short_synopsis\":null,\"medium_synopsis\":null,\"long_synopsis\":null}},{\"title\":null,\"pid\":\"p0651gg9\",\"short_synopsis\":\"\",\"medium_synopsis\":\"\",\"long_synopsis\":\"\",\"version_offset\":487,\"position\":3,\"is_chapter\":false,\"has_snippet\":false,\"segment\":{\"type\":\"music\",\"pid\":\"p0651gg3\",\"duration\":339,\"primary_contributor\":{\"pid\":\"p012dtmv\",\"musicbrainz_gid\":\"a7f7df4a-77d8-4f12-8acd-5c60c93f4de8\",\"name\":\"Ryuichi Sakamoto\"},\"artist\":\"Ryuichi Sakamoto\",\"track_title\":\"ff2\",\"track_number\":null,\"publisher\":null,\"record_label\":\"Milan Music\",\"release_title\":null,\"record_id\":\"n5n5fd\",\"catalogue_number\":null,\"contributions\":[{\"pid\":\"p012dtmv\",\"name\":\"Ryuichi Sakamoto\",\"role\":\"Performer\",\"musicbrainz_gid\":\"a7f7df4a-77d8-4f12-8acd-5c60c93f4de8\"}],\"title\":\"ff2\",\"short_synopsis\":null,\"medium_synopsis\":null,\"long_synopsis\":null}},{\"title\":null,\"pid\":\"p0651grt\",\"short_synopsis\":\"\",\"medium_synopsis\":\"\",\"long_synopsis\":\"\",\"version_offset\":887,\"position\":4,\"is_chapter\":false,\"has_snippet\":false,\"segment\":{\"type\":\"music\",\"pid\":\"p0651grs\",\"duration\":181,\"primary_contributor\":{\"pid\":\"p012d8mx\",\"musicbrainz_gid\":\"a670e05a-cea8-4b37-bce9-d82daf1a0fa4\",\"name\":\"Feist\"},\"artist\":\"Feist\",\"track_title\":\"1234\",\"track_number\":null,\"publisher\":\"BMG MUSIC PUBLISHING\\\\/COP CON\",\"record_label\":\"POLYDOR\",\"release_title\":\"CD SINGLE\",\"record_id\":\"nz53dv\",\"catalogue_number\":null,\"contributions\":[{\"pid\":\"p012d8mx\",\"name\":\"Feist\",\"role\":\"Performer\",\"musicbrainz_gid\":\"a670e05a-cea8-4b37-bce9-d82daf1a0fa4\"}],\"title\":\"1234\",\"short_synopsis\":null,\"medium_synopsis\":null,\"long_synopsis\":null}},{\"title\":null,\"pid\":\"p0651gsk\",\"short_synopsis\":\"\",\"medium_synopsis\":\"\",\"long_synopsis\":\"\",\"version_offset\":1067,\"position\":5,\"is_chapter\":false,\"has_snippet\":false,\"segment\":{\"type\":\"music\",\"pid\":\"p0651gsj\",\"duration\":293,\"primary_contributor\":{\"pid\":\"p0129k8g\",\"musicbrainz_gid\":\"000fc734-b7e1-4a01-92d1-f544261b43f5\",\"name\":\"Cocteau Twins\"},\"artist\":\"Cocteau Twins\",\"track_title\":\"Heaven Or Las Vegas\",\"track_number\":null,\"publisher\":\"UNIVERSAL MUSIC PUBLISHING\",\"record_label\":\"4 A.D.\",\"release_title\":\"HEAVEN OR LAS VEGAS\",\"record_id\":\"nz2vw2\",\"catalogue_number\":null,\"contributions\":[{\"pid\":\"p0129k8g\",\"name\":\"Cocteau Twins\",\"role\":\"Performer\",\"musicbrainz_gid\":\"000fc734-b7e1-4a01-92d1-f544261b43f5\"}],\"title\":\"Heaven Or Las Vegas\",\"short_synopsis\":null,\"medium_synopsis\":null,\"long_synopsis\":null}},{\"title\":null,\"pid\":\"p0651gtp\",\"short_synopsis\":\"\",\"medium_synopsis\":\"\",\"long_synopsis\":\"\",\"version_offset\":1404,\"position\":6,\"is_chapter\":false,\"has_snippet\":false,\"segment\":{\"type\":\"music\",\"pid\":\"p0651gtn\",\"duration\":141,\"primary_contributor\":{\"pid\":\"p01jhhfq\",\"musicbrainz_gid\":\"ee5051cb-e2dd-4d23-b421-03ea3b692b12\",\"name\":\"Kwes.\"},\"artist\":\"Kwes.\",\"track_title\":\"36\",\"track_number\":null,\"publisher\":\"Warp Music Publishing\",\"record_label\":\"Warp Records\",\"release_title\":null,\"record_id\":\"nz3pbb\",\"catalogue_number\":null,\"contributions\":[{\"pid\":\"p01jhhfq\",\"name\":\"Kwes.\",\"role\":\"Performer\",\"musicbrainz_gid\":\"ee5051cb-e2dd-4d23-b421-03ea3b692b12\"}],\"title\":\"36\",\"short_synopsis\":null,\"medium_synopsis\":null,\"long_synopsis\":null}},{\"title\":null,\"pid\":\"p0651gyx\",\"short_synopsis\":\"\",\"medium_synopsis\":\"\",\"long_synopsis\":\"\",\"version_offset\":1581,\"position\":7,\"is_chapter\":false,\"has_snippet\":false,\"segment\":{\"type\":\"music\",\"pid\":\"p0638mbg\",\"duration\":219,\"primary_contributor\":{\"pid\":\"p02htlk4\",\"musicbrainz_gid\":\"478028d8-4c7b-46b2-940f-ac22b4ef37c2\",\"name\":\"Kojey Radical\"},\"artist\":\"Kojey Radical\",\"track_title\":\"If Only\",\"track_number\":null,\"publisher\":\"Touch Tones\",\"record_label\":\"Kojey Radical\",\"release_title\":null,\"record_id\":\"n4mchb\",\"catalogue_number\":null,\"contributions\":[{\"pid\":\"p02htlk4\",\"name\":\"Kojey Radical\",\"role\":\"Performer\",\"musicbrainz_gid\":\"478028d8-4c7b-46b2-940f-ac22b4ef37c2\"}],\"title\":\"If Only\",\"short_synopsis\":null,\"medium_synopsis\":null,\"long_synopsis\":null}},{\"title\":null,\"pid\":\"p0651h53\",\"short_synopsis\":\"\",\"medium_synopsis\":\"\",\"long_synopsis\":\"\",\"version_offset\":1965,\"position\":8,\"is_chapter\":false,\"has_snippet\":false,\"segment\":{\"type\":\"music\",\"pid\":\"p0651h52\",\"duration\":183,\"primary_contributor\":{\"pid\":\"p0129kgm\",\"musicbrainz_gid\":\"13501c7d-d181-45ba-af52-5f101d8516a0\",\"name\":\"Can\"},\"artist\":\"Can\",\"track_title\":\"Moonshake\",\"track_number\":null,\"publisher\":\"Essex Music International\",\"record_label\":\"Liberty\\\\/United Artists Records Ltd.\",\"release_title\":null,\"record_id\":\"nz2rrx\",\"catalogue_number\":null,\"contributions\":[{\"pid\":\"p0129kgm\",\"name\":\"Can\",\"role\":\"Performer\",\"musicbrainz_gid\":\"13501c7d-d181-45ba-af52-5f101d8516a0\"}],\"title\":\"Moonshake\",\"short_synopsis\":null,\"medium_synopsis\":null,\"long_synopsis\":null}},{\"title\":null,\"pid\":\"p0651h8m\",\"short_synopsis\":\"\",\"medium_synopsis\":\"\",\"long_synopsis\":\"\",\"version_offset\":2147,\"position\":9,\"is_chapter\":false,\"has_snippet\":false,\"segment\":{\"type\":\"music\",\"pid\":\"p063qmg7\",\"duration\":199,\"primary_contributor\":{\"pid\":\"p012dpl6\",\"musicbrainz_gid\":\"0b0c25f4-f31c-46a5-a4fb-ccbf53d663bd\",\"name\":\"Jon Hopkins\"},\"artist\":\"Jon Hopkins\",\"track_title\":\"Emerald Rush\",\"track_number\":null,\"publisher\":\"Domino Publishing Co. Ltd\",\"record_label\":\"Domino\",\"release_title\":null,\"record_id\":\"n4mchn\",\"catalogue_number\":null,\"contributions\":[{\"pid\":\"p012dpl6\",\"name\":\"Jon Hopkins\",\"role\":\"Performer\",\"musicbrainz_gid\":\"0b0c25f4-f31c-46a5-a4fb-ccbf53d663bd\"}],\"title\":\"Emerald Rush\",\"short_synopsis\":null,\"medium_synopsis\":null,\"long_synopsis\":null}},{\"title\":null,\"pid\":\"p0651hcn\",\"short_synopsis\":\"\",\"medium_synopsis\":\"\",\"long_synopsis\":\"\",\"version_offset\":2408,\"position\":10,\"is_chapter\":false,\"has_snippet\":false,\"segment\":{\"type\":\"music\",\"pid\":\"p0651hcm\",\"duration\":252,\"primary_contributor\":{\"pid\":\"p01gr9xy\",\"musicbrainz_gid\":\"50da04cf-cc25-4313-ac1a-99e84f18cca7\",\"name\":\"Eric Whitacre\"},\"artist\":\"Eric Whitacre\",\"track_title\":\"Lux Aurumque\",\"track_number\":null,\"publisher\":null,\"record_label\":null,\"release_title\":null,\"record_id\":\"nzw358\",\"catalogue_number\":null,\"contributions\":[{\"pid\":\"p01gr9xy\",\"name\":\"Eric Whitacre\",\"role\":\"Performer\",\"musicbrainz_gid\":\"50da04cf-cc25-4313-ac1a-99e84f18cca7\"}],\"title\":\"Lux Aurumque\",\"short_synopsis\":null,\"medium_synopsis\":null,\"long_synopsis\":null}},{\"title\":null,\"pid\":\"p0651hg5\",\"short_synopsis\":\"\",\"medium_synopsis\":\"\",\"long_synopsis\":\"\",\"version_offset\":2656,\"position\":11,\"is_chapter\":false,\"has_snippet\":false,\"segment\":{\"type\":\"music\",\"pid\":\"p0651hg4\",\"duration\":270,\"primary_contributor\":{\"pid\":\"p0129kfj\",\"musicbrainz_gid\":\"10000730-525f-4ed5-aaa8-92888f060f5f\",\"name\":\"Bat for Lashes\"},\"artist\":\"Bat for Lashes\",\"track_title\":\"Laura\",\"track_number\":null,\"publisher\":\"CHRYSALIS-MUSIC-LTD\",\"record_label\":null,\"release_title\":null,\"record_id\":\"nz2v69\",\"catalogue_number\":null,\"contributions\":[{\"pid\":\"p0129kfj\",\"name\":\"Bat for Lashes\",\"role\":\"Performer\",\"musicbrainz_gid\":\"10000730-525f-4ed5-aaa8-92888f060f5f\"}],\"title\":\"Laura\",\"short_synopsis\":null,\"medium_synopsis\":null,\"long_synopsis\":null}},{\"title\":null,\"pid\":\"p0651hj2\",\"short_synopsis\":\"\",\"medium_synopsis\":\"\",\"long_synopsis\":\"\",\"version_offset\":2967,\"position\":12,\"is_chapter\":false,\"has_snippet\":false,\"segment\":{\"type\":\"music\",\"pid\":\"p064jtf2\",\"duration\":196,\"primary_contributor\":{\"pid\":\"p05l1nbl\",\"musicbrainz_gid\":\"4dbf34ad-4156-4587-8532-4219cb4fa373\",\"name\":\"Mattiel\"},\"artist\":\"Mattiel\",\"track_title\":\"Count Your Blessings\",\"track_number\":null,\"publisher\":\"Copyright Control\",\"record_label\":\"Heavenly Recordings\",\"release_title\":null,\"record_id\":\"n4mx4d\",\"catalogue_number\":null,\"contributions\":[{\"pid\":\"p05l1nbl\",\"name\":\"Mattiel\",\"role\":\"Performer\",\"musicbrainz_gid\":\"4dbf34ad-4156-4587-8532-4219cb4fa373\"}],\"title\":\"Count Your Blessings\",\"short_synopsis\":null,\"medium_synopsis\":null,\"long_synopsis\":null}},{\"title\":null,\"pid\":\"p0651hlz\",\"short_synopsis\":\"\",\"medium_synopsis\":\"\",\"long_synopsis\":\"\",\"version_offset\":3189,\"position\":13,\"is_chapter\":false,\"has_snippet\":false,\"segment\":{\"type\":\"music\",\"pid\":\"p0651hly\",\"duration\":265,\"primary_contributor\":{\"pid\":\"p012d8vq\",\"musicbrainz_gid\":\"b95ce3ff-3d05-4e87-9e01-c97b66af13d4\",\"name\":\"Eminem\"},\"artist\":\"Eminem\",\"track_title\":\"Lose Yourself\",\"track_number\":null,\"publisher\":\"Eight Mile Style Music\\\\/Marshall B Mather\",\"record_label\":\"Interscope\",\"release_title\":\"Curtain Call: The Hits\",\"record_id\":\"nznnmm\",\"catalogue_number\":null,\"contributions\":[{\"pid\":\"p012d8vq\",\"name\":\"Eminem\",\"role\":\"Performer\",\"musicbrainz_gid\":\"b95ce3ff-3d05-4e87-9e01-c97b66af13d4\"}],\"title\":\"Lose Yourself\",\"short_synopsis\":null,\"medium_synopsis\":null,\"long_synopsis\":null}},{\"title\":null,\"pid\":\"p0651hp7\",\"short_synopsis\":\"\",\"medium_synopsis\":\"\",\"long_synopsis\":\"\",\"version_offset\":3456,\"position\":14,\"is_chapter\":false,\"has_snippet\":false,\"segment\":{\"type\":\"music\",\"pid\":\"p0651hp5\",\"duration\":146,\"primary_contributor\":{\"pid\":\"p00zzbbh\",\"musicbrainz_gid\":\"8a338e06-d182-46f2-bd16-30a09bc840ba\",\"name\":\"Elvis Costello\"},\"artist\":\"Elvis Costello\",\"track_title\":\"High Fidelity\",\"track_number\":null,\"publisher\":\"PLANGENT VISIONS\",\"record_label\":\"Universal Music\",\"release_title\":null,\"record_id\":\"n34m42\",\"catalogue_number\":null,\"contributions\":[{\"pid\":\"p00zzbbh\",\"name\":\"Elvis Costello\",\"role\":\"Performer\",\"musicbrainz_gid\":\"8a338e06-d182-46f2-bd16-30a09bc840ba\"},{\"pid\":\"p01knqck\",\"name\":\"The Attractions\",\"role\":\"Performer\",\"musicbrainz_gid\":\"fa52e9ef-69c8-4b53-a7cf-1318be1d75be\"}],\"title\":\"High Fidelity\",\"short_synopsis\":null,\"medium_synopsis\":null,\"long_synopsis\":null}},{\"title\":null,\"pid\":\"p0651hpr\",\"short_synopsis\":\"\",\"medium_synopsis\":\"\",\"long_synopsis\":\"\",\"version_offset\":3604,\"position\":15,\"is_chapter\":false,\"has_snippet\":false,\"segment\":{\"type\":\"music\",\"pid\":\"p061vwrl\",\"duration\":190,\"primary_contributor\":{\"pid\":\"p02nlhwk\",\"musicbrainz_gid\":\"9b5ae4cc-15ae-4f0b-8a4e-8c44e42ba52a\",\"name\":\"La Luz\"},\"artist\":\"La Luz\",\"track_title\":\"Cicada\",\"track_number\":null,\"publisher\":\"Phantom Pheelings (ASCAP) \\\\/ Marian LP Music (BMI) \\\\/ Eerie Organ (BMI) \\\\/ Lena Simon (BMI)\",\"record_label\":\"Hardly Art Records\",\"release_title\":null,\"record_id\":\"n4qhrp\",\"catalogue_number\":null,\"contributions\":[{\"pid\":\"p02nlhwk\",\"name\":\"La Luz\",\"role\":\"Performer\",\"musicbrainz_gid\":\"9b5ae4cc-15ae-4f0b-8a4e-8c44e42ba52a\"}],\"title\":\"Cicada\",\"short_synopsis\":null,\"medium_synopsis\":null,\"long_synopsis\":null}},{\"title\":null,\"pid\":\"p0651hzd\",\"short_synopsis\":\"\",\"medium_synopsis\":\"\",\"long_synopsis\":\"\",\"version_offset\":3872,\"position\":16,\"is_chapter\":false,\"has_snippet\":false,\"segment\":{\"type\":\"music\",\"pid\":\"p01gclv5\",\"duration\":192,\"primary_contributor\":{\"pid\":\"p012d9n5\",\"musicbrainz_gid\":\"5700dcd4-c139-4f31-aa3e-6382b9af9032\",\"name\":\"Kraftwerk\"},\"artist\":\"Kraftwerk\",\"track_title\":\"The Robots\",\"track_number\":null,\"publisher\":\"Sony\\\\/ATV Tunes\",\"record_label\":\"EMI\",\"release_title\":\"Nick Rhodes \\\\u0026 John Taylor Present: Only After Dark\",\"record_id\":\"nz36j5\",\"catalogue_number\":null,\"contributions\":[{\"pid\":\"p012d9n5\",\"name\":\"Kraftwerk\",\"role\":\"Performer\",\"musicbrainz_gid\":\"5700dcd4-c139-4f31-aa3e-6382b9af9032\"}],\"title\":\"The Robots\",\"short_synopsis\":null,\"medium_synopsis\":null,\"long_synopsis\":null}},{\"title\":null,\"pid\":\"p0651j4y\",\"short_synopsis\":\"\",\"medium_synopsis\":\"\",\"long_synopsis\":\"\",\"version_offset\":4153,\"position\":17,\"is_chapter\":false,\"has_snippet\":false,\"segment\":{\"type\":\"music\",\"pid\":\"p064l2tv\",\"duration\":196,\"primary_contributor\":{\"pid\":\"p012dsl9\",\"musicbrainz_gid\":\"806139a2-556b-45d8-bc5e-93e3d898e4ad\",\"name\":\"Hollie Cook\"},\"artist\":\"Hollie Cook\",\"track_title\":\"Ghostly Fading\",\"track_number\":null,\"publisher\":\"Big Life Music Ltd\\\\/Copyright Control\",\"record_label\":\"Merge Records\",\"release_title\":null,\"record_id\":\"n4f64b\",\"catalogue_number\":null,\"contributions\":[{\"pid\":\"p012dsl9\",\"name\":\"Hollie Cook\",\"role\":\"Performer\",\"musicbrainz_gid\":\"806139a2-556b-45d8-bc5e-93e3d898e4ad\"}],\"title\":\"Ghostly Fading\",\"short_synopsis\":null,\"medium_synopsis\":null,\"long_synopsis\":null}},{\"title\":null,\"pid\":\"p0651j7k\",\"short_synopsis\":\"\",\"medium_synopsis\":\"\",\"long_synopsis\":\"\",\"version_offset\":4432,\"position\":18,\"is_chapter\":false,\"has_snippet\":false,\"segment\":{\"type\":\"music\",\"pid\":\"p0651j7h\",\"duration\":178,\"primary_contributor\":{\"pid\":\"p011z9fm\",\"musicbrainz_gid\":\"bd13909f-1c29-4c27-a874-d4aaf27c5b1a\",\"name\":\"Fleetwood Mac\"},\"artist\":\"Fleetwood Mac\",\"track_title\":\"I Believe My Time Ain\\\\u0027t Long\",\"track_number\":null,\"publisher\":\"GETAWAY MUSIC\",\"record_label\":\"ESSENTIAL\",\"release_title\":null,\"record_id\":\"nz934j\",\"catalogue_number\":null,\"contributions\":[{\"pid\":\"p011z9fm\",\"name\":\"Fleetwood Mac\",\"role\":\"Performer\",\"musicbrainz_gid\":\"bd13909f-1c29-4c27-a874-d4aaf27c5b1a\"}],\"title\":\"I Believe My Time Ain\\\\u0027t Long\",\"short_synopsis\":null,\"medium_synopsis\":null,\"long_synopsis\":null}},{\"title\":null,\"pid\":\"p0651j8j\",\"short_synopsis\":\"\",\"medium_synopsis\":\"\",\"long_synopsis\":\"\",\"version_offset\":4654,\"position\":19,\"is_chapter\":false,\"has_snippet\":false,\"segment\":{\"type\":\"music\",\"pid\":\"p0651j8h\",\"duration\":324,\"primary_contributor\":{\"pid\":\"p00ykrx4\",\"musicbrainz_gid\":\"fa97dd36-1b82-43d7-a6e4-2adeafd59cef\",\"name\":\"Fleet Foxes\"},\"artist\":\"Fleet Foxes\",\"track_title\":\"Crack Up (Choral Version)\",\"track_number\":null,\"publisher\":null,\"record_label\":\"Nonesuch\",\"release_title\":null,\"record_id\":\"n5n68d\",\"catalogue_number\":null,\"contributions\":[{\"pid\":\"p00ykrx4\",\"name\":\"Fleet Foxes\",\"role\":\"Performer\",\"musicbrainz_gid\":\"fa97dd36-1b82-43d7-a6e4-2adeafd59cef\"}],\"title\":\"Crack Up (Choral Version)\",\"short_synopsis\":null,\"medium_synopsis\":null,\"long_synopsis\":null}},{\"title\":null,\"pid\":\"p0651j9t\",\"short_synopsis\":\"\",\"medium_synopsis\":\"\",\"long_synopsis\":\"\",\"version_offset\":4978,\"position\":20,\"is_chapter\":false,\"has_snippet\":false,\"segment\":{\"type\":\"music\",\"pid\":\"p0651j9s\",\"duration\":161,\"primary_contributor\":{\"pid\":\"p011zd7c\",\"musicbrainz_gid\":\"2f9ecbed-27be-40e6-abca-6de49d50299e\",\"name\":\"Aretha Franklin\"},\"artist\":\"Aretha Franklin\",\"track_title\":\"See Saw\",\"track_number\":null,\"publisher\":\"Universal\\\\/Warner Chappell\",\"record_label\":\"Atlantic\",\"release_title\":null,\"record_id\":\"nz2pwh\",\"catalogue_number\":null,\"contributions\":[{\"pid\":\"p011zd7c\",\"name\":\"Aretha Franklin\",\"role\":\"Performer\",\"musicbrainz_gid\":\"2f9ecbed-27be-40e6-abca-6de49d50299e\"}],\"title\":\"See Saw\",\"short_synopsis\":null,\"medium_synopsis\":null,\"long_synopsis\":null}},{\"title\":null,\"pid\":\"p0651jbh\",\"short_synopsis\":\"\",\"medium_synopsis\":\"\",\"long_synopsis\":\"\",\"version_offset\":5168,\"position\":21,\"is_chapter\":false,\"has_snippet\":false,\"segment\":{\"type\":\"music\",\"pid\":\"p063vpzm\",\"duration\":224,\"primary_contributor\":{\"pid\":\"p012dyhq\",\"musicbrainz_gid\":\"1e6ee12a-b6dd-4557-99a3-17261bc510f8\",\"name\":\"Paul White\"},\"artist\":\"Paul White\",\"track_title\":\"Spare Gold\",\"track_number\":null,\"publisher\":\"Because Editions\\\\/Big Beat\",\"record_label\":\"R\\\\u0026S Records\",\"release_title\":null,\"record_id\":\"n4mpp4\",\"catalogue_number\":null,\"contributions\":[{\"pid\":\"p012dyhq\",\"name\":\"Paul White\",\"role\":\"Performer\",\"musicbrainz_gid\":\"1e6ee12a-b6dd-4557-99a3-17261bc510f8\"},{\"pid\":\"p05zmlhg\",\"name\":\"Shungudzo\",\"role\":\"Featured Artist\",\"musicbrainz_gid\":\"19bdf08c-51f8-4fcc-a97e-34e339c3fe95\"}],\"title\":\"Spare Gold\",\"short_synopsis\":null,\"medium_synopsis\":null,\"long_synopsis\":null}},{\"title\":null,\"pid\":\"p0651jl2\",\"short_synopsis\":\"\",\"medium_synopsis\":\"\",\"long_synopsis\":\"\",\"version_offset\":5559,\"position\":22,\"is_chapter\":false,\"has_snippet\":false,\"segment\":{\"type\":\"music\",\"pid\":\"p0651jl1\",\"duration\":222,\"primary_contributor\":{\"pid\":\"p00wrc0y\",\"musicbrainz_gid\":\"3d5c6889-2471-43c4-b853-08fc5fda810a\",\"name\":\"Ian Dury\"},\"artist\":\"Ian Dury\",\"track_title\":\"Hit Me With Your Rhythm Stick\",\"track_number\":null,\"publisher\":\"BLACKHILL MUSIC\",\"record_label\":\"Global Television\",\"release_title\":null,\"record_id\":\"n4qjmr\",\"catalogue_number\":null,\"contributions\":[{\"pid\":\"p00wrc0y\",\"name\":\"Ian Dury\",\"role\":\"Performer\",\"musicbrainz_gid\":\"3d5c6889-2471-43c4-b853-08fc5fda810a\"},{\"pid\":\"p012dtgg\",\"name\":\"Blockheads\",\"role\":\"Performer\",\"musicbrainz_gid\":\"34b28cd0-350e-40a5-94e3-5bc46610008d\"}],\"title\":\"Hit Me With Your Rhythm Stick\",\"short_synopsis\":null,\"medium_synopsis\":null,\"long_synopsis\":null}},{\"title\":null,\"pid\":\"p0651jpz\",\"short_synopsis\":\"\",\"medium_synopsis\":\"\",\"long_synopsis\":\"\",\"version_offset\":5781,\"position\":23,\"is_chapter\":false,\"has_snippet\":false,\"segment\":{\"type\":\"music\",\"pid\":\"p0635d97\",\"duration\":151,\"primary_contributor\":{\"pid\":\"p02jsfy5\",\"musicbrainz_gid\":\"69d9dfd7-19b7-4a75-8a53-9f733fb5d774\",\"name\":\"Leon Bridges\"},\"artist\":\"Leon Bridges\",\"track_title\":\"Bad Bad News\",\"track_number\":null,\"publisher\":\"Eartha\\\\u0027s Gumbo, admin. by \\\\/ Sony\\\\/ATV Allegro (GMR) \\\\/ Songs From The Boardwalk, \\\\/ Frederic And Ried Music, \\\\/ Poslaniec Publishing, and \\\\/ Nice Life Songs, admin. by \\\\/ Sony\\\\/ATV Songs LLC (BMI) \\\\/ BMG Righ\",\"record_label\":\"Columbia\",\"release_title\":null,\"record_id\":\"n4mjz5\",\"catalogue_number\":null,\"contributions\":[{\"pid\":\"p02jsfy5\",\"name\":\"Leon Bridges\",\"role\":\"Performer\",\"musicbrainz_gid\":\"69d9dfd7-19b7-4a75-8a53-9f733fb5d774\"}],\"title\":\"Bad Bad News\",\"short_synopsis\":null,\"medium_synopsis\":null,\"long_synopsis\":null}},{\"title\":\"Kendrick on Lyrics\",\"pid\":\"p0651jw8\",\"short_synopsis\":\"\",\"medium_synopsis\":\"\",\"long_synopsis\":\"\",\"version_offset\":6079,\"position\":24,\"is_chapter\":false,\"has_snippet\":false,\"segment\":{\"type\":\"music\",\"pid\":\"p0505ckr\",\"duration\":207,\"primary_contributor\":{\"pid\":\"p012ddn8\",\"musicbrainz_gid\":\"381086ea-f511-4aba-bdf9-71c753dc5077\",\"name\":\"Kendrick Lamar\"},\"artist\":\"Kendrick Lamar\",\"track_title\":\"FEEL.\",\"track_number\":null,\"publisher\":null,\"record_label\":null,\"release_title\":null,\"record_id\":\"n4rx9h\",\"catalogue_number\":null,\"contributions\":[{\"pid\":\"p012ddn8\",\"name\":\"Kendrick Lamar\",\"role\":\"Performer\",\"musicbrainz_gid\":\"381086ea-f511-4aba-bdf9-71c753dc5077\"}],\"title\":\"FEEL.\",\"short_synopsis\":null,\"medium_synopsis\":null,\"long_synopsis\":null}},{\"title\":null,\"pid\":\"p0651jxx\",\"short_synopsis\":\"\",\"medium_synopsis\":\"\",\"long_synopsis\":\"\",\"version_offset\":6360,\"position\":25,\"is_chapter\":false,\"has_snippet\":false,\"segment\":{\"type\":\"music\",\"pid\":\"p0651jxw\",\"duration\":371,\"primary_contributor\":{\"pid\":\"p01kk7v7\",\"musicbrainz_gid\":\"1c8e46d4-9343-48ce-aed8-0862e03878fd\",\"name\":\"Alex Reece\"},\"artist\":\"Alex Reece\",\"track_title\":\"Pulp Fiction\",\"track_number\":\"9\",\"publisher\":\"London Music\",\"record_label\":\"Metalheadz Ltd\",\"release_title\":\"Metalheadz Presents Platinum Breakz CD1\",\"record_id\":\"nz2nfg\",\"catalogue_number\":null,\"contributions\":[{\"pid\":\"p01kk7v7\",\"name\":\"Alex Reece\",\"role\":\"Performer\",\"musicbrainz_gid\":\"1c8e46d4-9343-48ce-aed8-0862e03878fd\"}],\"title\":\"Pulp Fiction\",\"short_synopsis\":null,\"medium_synopsis\":null,\"long_synopsis\":null}},{\"title\":null,\"pid\":\"p0651k0p\",\"short_synopsis\":\"\",\"medium_synopsis\":\"\",\"long_synopsis\":\"\",\"version_offset\":6731,\"position\":26,\"is_chapter\":false,\"has_snippet\":false,\"segment\":{\"type\":\"music\",\"pid\":\"p0651k0l\",\"duration\":211,\"primary_contributor\":{\"pid\":\"p012dpkw\",\"musicbrainz_gid\":\"09d878d8-bc2e-4d04-b4aa-57ab614f93ab\",\"name\":\"Julian Cope\"},\"artist\":\"Julian Cope\",\"track_title\":\"World Shut Your Mouth\",\"track_number\":null,\"publisher\":\"10 MUSIC\",\"record_label\":\"Island\",\"release_title\":null,\"record_id\":\"nz22j8\",\"catalogue_number\":null,\"contributions\":[{\"pid\":\"p012dpkw\",\"name\":\"Julian Cope\",\"role\":\"Performer\",\"musicbrainz_gid\":\"09d878d8-bc2e-4d04-b4aa-57ab614f93ab\"}],\"title\":\"World Shut Your Mouth\",\"short_synopsis\":null,\"medium_synopsis\":null,\"long_synopsis\":null}},{\"title\":null,\"pid\":\"p0651k47\",\"short_synopsis\":\"\",\"medium_synopsis\":\"\",\"long_synopsis\":\"\",\"version_offset\":6972,\"position\":27,\"is_chapter\":false,\"has_snippet\":false,\"segment\":{\"type\":\"music\",\"pid\":\"p064gv5m\",\"duration\":191,\"primary_contributor\":{\"pid\":\"p012dnj8\",\"musicbrainz_gid\":\"62773859-b9b9-4108-b814-cfd91459d716\",\"name\":\"Joan As Police Woman\"},\"artist\":\"Joan As Police Woman\",\"track_title\":\"Damned Devotion\",\"track_number\":null,\"publisher\":\"Fists Of Fury Music (BMI)\\\\/Domino Publishing\",\"record_label\":\"Play It Again Sam\",\"release_title\":null,\"record_id\":\"n4qwng\",\"catalogue_number\":null,\"contributions\":[{\"pid\":\"p012dnj8\",\"name\":\"Joan As Police Woman\",\"role\":\"Performer\",\"musicbrainz_gid\":\"62773859-b9b9-4108-b814-cfd91459d716\"}],\"title\":\"Damned Devotion\",\"short_synopsis\":null,\"medium_synopsis\":null,\"long_synopsis\":null}},{\"title\":null,\"pid\":\"p0651k8b\",\"short_synopsis\":\"\",\"medium_synopsis\":\"\",\"long_synopsis\":\"\",\"version_offset\":7221,\"position\":28,\"is_chapter\":false,\"has_snippet\":false,\"segment\":{\"type\":\"music\",\"pid\":\"p0651k89\",\"duration\":190,\"primary_contributor\":{\"pid\":\"p012dqbx\",\"musicbrainz_gid\":\"f4c967a4-7591-4bba-8237-82e171a2fa7f\",\"name\":\"X\\\\u2010Ray Spex\"},\"artist\":\"X\\\\u2010Ray Spex\",\"track_title\":\"Germ-Free Adolescents\",\"track_number\":null,\"publisher\":\"PHANTOM PUBLISHING\",\"record_label\":\"Virgin\",\"release_title\":null,\"record_id\":\"nz24hg\",\"catalogue_number\":null,\"contributions\":[{\"pid\":\"p012dqbx\",\"name\":\"X\\\\u2010Ray Spex\",\"role\":\"Performer\",\"musicbrainz_gid\":\"f4c967a4-7591-4bba-8237-82e171a2fa7f\"}],\"title\":\"Germ-Free Adolescents\",\"short_synopsis\":null,\"medium_synopsis\":null,\"long_synopsis\":null}},{\"title\":null,\"pid\":\"p0651kd4\",\"short_synopsis\":\"\",\"medium_synopsis\":\"\",\"long_synopsis\":\"\",\"version_offset\":7410,\"position\":29,\"is_chapter\":false,\"has_snippet\":false,\"segment\":{\"type\":\"music\",\"pid\":\"p062b2jc\",\"duration\":203,\"primary_contributor\":{\"pid\":\"p012drp6\",\"musicbrainz_gid\":\"6efa29c6-9995-48e0-9eaf-3809464a39a7\",\"name\":\"Charlotte Gainsbourg\"},\"artist\":\"Charlotte Gainsbourg\",\"track_title\":\"Sylvia Says\",\"track_number\":null,\"publisher\":\"opyright Control\\\\/Because Editions\\\\/Headbangers Publishing\",\"record_label\":\"Because Music\",\"release_title\":null,\"record_id\":\"n4ww2f\",\"catalogue_number\":null,\"contributions\":[{\"pid\":\"p012drp6\",\"name\":\"Charlotte Gainsbourg\",\"role\":\"Performer\",\"musicbrainz_gid\":\"6efa29c6-9995-48e0-9eaf-3809464a39a7\"}],\"title\":\"Sylvia Says\",\"short_synopsis\":null,\"medium_synopsis\":null,\"long_synopsis\":null}},{\"title\":\"Fight Klub Fitness Rave\",\"pid\":\"p0651kpt\",\"short_synopsis\":\"\",\"medium_synopsis\":\"\",\"long_synopsis\":\"\",\"version_offset\":7908,\"position\":30,\"is_chapter\":false,\"has_snippet\":false,\"segment\":{\"type\":\"music\",\"pid\":\"p0651kps\",\"duration\":233,\"primary_contributor\":{\"pid\":\"p01kkh5m\",\"musicbrainz_gid\":\"28c1b7b7-355a-48b1-b2c4-75b8eb8080ef\",\"name\":\"LTJ Bukem\"},\"artist\":\"LTJ Bukem\",\"track_title\":\"Horizons\",\"track_number\":null,\"publisher\":\"Looking Good Records \\\\u200e\",\"record_label\":\"Looking Good Records \\\\u200e\",\"release_title\":null,\"record_id\":\"nz4dxm\",\"catalogue_number\":null,\"contributions\":[{\"pid\":\"p01kkh5m\",\"name\":\"LTJ Bukem\",\"role\":\"Performer\",\"musicbrainz_gid\":\"28c1b7b7-355a-48b1-b2c4-75b8eb8080ef\"}],\"title\":\"Horizons\",\"short_synopsis\":null,\"medium_synopsis\":null,\"long_synopsis\":null}},{\"title\":null,\"pid\":\"p0651kvl\",\"short_synopsis\":\"\",\"medium_synopsis\":\"\",\"long_synopsis\":\"\",\"version_offset\":8165,\"position\":31,\"is_chapter\":false,\"has_snippet\":false,\"segment\":{\"type\":\"music\",\"pid\":\"p061z8nl\",\"duration\":156,\"primary_contributor\":{\"pid\":\"p03ccncc\",\"musicbrainz_gid\":\"edf62daa-1425-44bb-8fe3-07499b519472\",\"name\":\"Imarhan\"},\"artist\":\"Imarhan\",\"track_title\":\"Ehad Wa Dagh\",\"track_number\":null,\"publisher\":\"Inear Publishing admin. by BMG Rights Management France\",\"record_label\":\"City Slang Records\",\"release_title\":null,\"record_id\":\"n4q54v\",\"catalogue_number\":null,\"contributions\":[{\"pid\":\"p03ccncc\",\"name\":\"Imarhan\",\"role\":\"Performer\",\"musicbrainz_gid\":\"edf62daa-1425-44bb-8fe3-07499b519472\"}],\"title\":\"Ehad Wa Dagh\",\"short_synopsis\":null,\"medium_synopsis\":null,\"long_synopsis\":null}},{\"title\":null,\"pid\":\"p0651l6q\",\"short_synopsis\":\"\",\"medium_synopsis\":\"\",\"long_synopsis\":\"\",\"version_offset\":8361,\"position\":32,\"is_chapter\":false,\"has_snippet\":false,\"segment\":{\"type\":\"music\",\"pid\":\"p0651l6p\",\"duration\":229,\"primary_contributor\":{\"pid\":\"p00ykrvn\",\"musicbrainz_gid\":\"da90b5da-349e-4906-a0b4-805f5e46190d\",\"name\":\"Midlake\"},\"artist\":\"Midlake\",\"track_title\":\"The Old And The Young\",\"track_number\":null,\"publisher\":\"Sony ATV\",\"record_label\":\"Bella Union\",\"release_title\":null,\"record_id\":\"nz4xvx\",\"catalogue_number\":null,\"contributions\":[{\"pid\":\"p00ykrvn\",\"name\":\"Midlake\",\"role\":\"Performer\",\"musicbrainz_gid\":\"da90b5da-349e-4906-a0b4-805f5e46190d\"}],\"title\":\"The Old And The Young\",\"short_synopsis\":null,\"medium_synopsis\":null,\"long_synopsis\":null}},{\"title\":null,\"pid\":\"p0651lmm\",\"short_synopsis\":\"\",\"medium_synopsis\":\"\",\"long_synopsis\":\"\",\"version_offset\":8603,\"position\":33,\"is_chapter\":false,\"has_snippet\":false,\"segment\":{\"type\":\"music\",\"pid\":\"p0651lmc\",\"duration\":233,\"primary_contributor\":{\"pid\":\"p012dj6f\",\"musicbrainz_gid\":\"37367b2f-69e4-4df2-9e64-75ca6204764b\",\"name\":\"Steel Pulse\"},\"artist\":\"Steel Pulse\",\"track_title\":\"Handsworth Revolution\",\"track_number\":null,\"publisher\":\"BLUE MOUNTAIN\",\"record_label\":\"Universal\",\"release_title\":null,\"record_id\":\"nzwvwq\",\"catalogue_number\":null,\"contributions\":[{\"pid\":\"p012dj6f\",\"name\":\"Steel Pulse\",\"role\":\"Performer\",\"musicbrainz_gid\":\"37367b2f-69e4-4df2-9e64-75ca6204764b\"}],\"title\":\"Handsworth Revolution\",\"short_synopsis\":null,\"medium_synopsis\":null,\"long_synopsis\":null}},{\"title\":null,\"pid\":\"p0651ly3\",\"short_synopsis\":\"\",\"medium_synopsis\":\"\",\"long_synopsis\":\"\",\"version_offset\":8862,\"position\":34,\"is_chapter\":false,\"has_snippet\":false,\"segment\":{\"type\":\"music\",\"pid\":\"p0651ly2\",\"duration\":137,\"primary_contributor\":{\"pid\":\"p012d79c\",\"musicbrainz_gid\":\"23228f18-01d5-493e-94ce-cfcde82a8db2\",\"name\":\"The Jam\"},\"artist\":\"The Jam\",\"track_title\":\"All Around The World\",\"track_number\":null,\"publisher\":\"AND SON\",\"record_label\":null,\"release_title\":null,\"record_id\":\"nz6zz4\",\"catalogue_number\":null,\"contributions\":[{\"pid\":\"p012d79c\",\"name\":\"The Jam\",\"role\":\"Performer\",\"musicbrainz_gid\":\"23228f18-01d5-493e-94ce-cfcde82a8db2\"}],\"title\":\"All Around The World\",\"short_synopsis\":null,\"medium_synopsis\":null,\"long_synopsis\":null}},{\"title\":null,\"pid\":\"p0651m7r\",\"short_synopsis\":\"\",\"medium_synopsis\":\"\",\"long_synopsis\":\"\",\"version_offset\":9161,\"position\":35,\"is_chapter\":false,\"has_snippet\":false,\"segment\":{\"type\":\"music\",\"pid\":\"p0651m7n\",\"duration\":308,\"primary_contributor\":{\"pid\":\"p012d92b\",\"musicbrainz_gid\":\"d5da1841-9bc8-4813-9f89-11098090148e\",\"name\":\"The Fall\"},\"artist\":\"The Fall\",\"track_title\":\"Rowche Rumble\",\"track_number\":null,\"publisher\":\"Sanctuary Records Group Ltd., a BMG Company\",\"record_label\":null,\"release_title\":null,\"record_id\":\"nzvh4p\",\"catalogue_number\":null,\"contributions\":[{\"pid\":\"p012d92b\",\"name\":\"The Fall\",\"role\":\"Performer\",\"musicbrainz_gid\":\"d5da1841-9bc8-4813-9f89-11098090148e\"}],\"title\":\"Rowche Rumble\",\"short_synopsis\":null,\"medium_synopsis\":null,\"long_synopsis\":null}},{\"title\":null,\"pid\":\"p0651mdt\",\"short_synopsis\":\"\",\"medium_synopsis\":\"\",\"long_synopsis\":\"\",\"version_offset\":9471,\"position\":36,\"is_chapter\":false,\"has_snippet\":false,\"segment\":{\"type\":\"music\",\"pid\":\"p061l1fc\",\"duration\":224,\"primary_contributor\":{\"pid\":\"p012dcvd\",\"musicbrainz_gid\":\"fac3ff34-6ba4-425a-8f01-b181ef4a908a\",\"name\":\"tUnE-yArDs\"},\"artist\":\"tUnE-yArDs\",\"track_title\":\"Heart Attack\",\"track_number\":null,\"publisher\":\"Garbus The Owl (ASCAP)\\\\/Naytronix Media\",\"record_label\":\"4AD\",\"release_title\":null,\"record_id\":\"n4vc94\",\"catalogue_number\":null,\"contributions\":[{\"pid\":\"p012dcvd\",\"name\":\"tUnE-yArDs\",\"role\":\"Performer\",\"musicbrainz_gid\":\"fac3ff34-6ba4-425a-8f01-b181ef4a908a\"}],\"title\":\"Heart Attack\",\"short_synopsis\":null,\"medium_synopsis\":null,\"long_synopsis\":null}},{\"title\":null,\"pid\":\"p0651mk0\",\"short_synopsis\":\"\",\"medium_synopsis\":\"\",\"long_synopsis\":\"\",\"version_offset\":9739,\"position\":37,\"is_chapter\":false,\"has_snippet\":false,\"segment\":{\"type\":\"music\",\"pid\":\"p00w7bws\",\"duration\":152,\"primary_contributor\":{\"pid\":\"p012dv33\",\"musicbrainz_gid\":\"69158f97-4c07-4c4e-baf8-4e4ab1ed666e\",\"name\":\"Boards of Canada\"},\"artist\":\"Boards of Canada\",\"track_title\":\"Roygbiv\",\"track_number\":\"10\",\"publisher\":\"Warp Records\",\"record_label\":\"Warp\",\"release_title\":\"Music Has The Right To Children\",\"record_id\":\"nz32q9\",\"catalogue_number\":null,\"contributions\":[{\"pid\":\"p012dv33\",\"name\":\"Boards of Canada\",\"role\":\"Performer\",\"musicbrainz_gid\":\"69158f97-4c07-4c4e-baf8-4e4ab1ed666e\"}],\"title\":\"Roygbiv\",\"short_synopsis\":null,\"medium_synopsis\":null,\"long_synopsis\":null}},{\"title\":null,\"pid\":\"p0651mn5\",\"short_synopsis\":\"\",\"medium_synopsis\":\"\",\"long_synopsis\":\"\",\"version_offset\":9947,\"position\":38,\"is_chapter\":false,\"has_snippet\":false,\"segment\":{\"type\":\"music\",\"pid\":\"p064kpk3\",\"duration\":214,\"primary_contributor\":{\"pid\":\"p032fsy5\",\"musicbrainz_gid\":\"b959b30d-156d-4031-a995-47dec996e6c9\",\"name\":\"Palace Winter\"},\"artist\":\"Palace Winter\",\"track_title\":\"Empire\",\"track_number\":null,\"publisher\":\"Copyright Control\",\"record_label\":\"Tambourhinoceros\",\"release_title\":null,\"record_id\":\"n4mj4p\",\"catalogue_number\":null,\"contributions\":[{\"pid\":\"p032fsy5\",\"name\":\"Palace Winter\",\"role\":\"Performer\",\"musicbrainz_gid\":\"b959b30d-156d-4031-a995-47dec996e6c9\"}],\"title\":\"Empire\",\"short_synopsis\":null,\"medium_synopsis\":null,\"long_synopsis\":null}},{\"title\":null,\"pid\":\"p0651ms6\",\"short_synopsis\":\"\",\"medium_synopsis\":\"\",\"long_synopsis\":\"\",\"version_offset\":10262,\"position\":39,\"is_chapter\":false,\"has_snippet\":false,\"segment\":{\"type\":\"music\",\"pid\":\"p0651ms4\",\"duration\":303,\"primary_contributor\":{\"pid\":\"p02jvybw\",\"musicbrainz_gid\":\"fda925d2-7af4-4b67-b8c1-692292c9cb18\",\"name\":\"Cosmo Sheldrake\"},\"artist\":\"Cosmo Sheldrake\",\"track_title\":\"Hocking\",\"track_number\":null,\"publisher\":null,\"record_label\":null,\"release_title\":null,\"record_id\":\"n5z3mh\",\"catalogue_number\":null,\"contributions\":[{\"pid\":\"p02jvybw\",\"name\":\"Cosmo Sheldrake\",\"role\":\"Performer\",\"musicbrainz_gid\":\"fda925d2-7af4-4b67-b8c1-692292c9cb18\"}],\"title\":\"Hocking\",\"short_synopsis\":null,\"medium_synopsis\":null,\"long_synopsis\":null}},{\"title\":null,\"pid\":\"p0651n0v\",\"short_synopsis\":\"\",\"medium_synopsis\":\"\",\"long_synopsis\":\"\",\"version_offset\":10574,\"position\":40,\"is_chapter\":false,\"has_snippet\":false,\"segment\":{\"type\":\"music\",\"pid\":\"p0651n0t\",\"duration\":256,\"primary_contributor\":{\"pid\":\"p01957kw\",\"musicbrainz_gid\":\"f597eafc-4dc5-4bc4-a019-a5035a3c8502\",\"name\":\"Nancy Wilson\"},\"artist\":\"Nancy Wilson\",\"track_title\":\"The Masquerade Is Over\",\"track_number\":null,\"publisher\":null,\"record_label\":\"Classic Music International\",\"release_title\":null,\"record_id\":\"n5n69n\",\"catalogue_number\":null,\"contributions\":[{\"pid\":\"p01957kw\",\"name\":\"Nancy Wilson\",\"role\":\"Performer\",\"musicbrainz_gid\":\"f597eafc-4dc5-4bc4-a019-a5035a3c8502\"},{\"pid\":\"p018t4qt\",\"name\":\"Cannonball Adderley\",\"role\":\"Performer\",\"musicbrainz_gid\":\"a4c73ebe-b2c7-4f13-b99d-2fe1f9f27da8\"}],\"title\":\"The Masquerade Is Over\",\"short_synopsis\":null,\"medium_synopsis\":null,\"long_synopsis\":null}}]}'"
      ]
     },
     "execution_count": 41,
     "metadata": {},
     "output_type": "execute_result"
    }
   ],
   "source": [
    "response.text"
   ]
  },
  {
   "cell_type": "code",
   "execution_count": 5,
   "metadata": {},
   "outputs": [
    {
     "name": "stdout",
     "output_type": "stream",
     "text": [
      "{}\n"
     ]
    }
   ],
   "source": [
    "print(session.cookies.get_dict())"
   ]
  },
  {
   "cell_type": "code",
   "execution_count": 43,
   "metadata": {},
   "outputs": [
    {
     "data": {
      "text/plain": [
       "'{\"segment_events\":[{\"title\":null,\"pid\":\"p065l7t9\",\"short_synopsis\":\"\",\"medium_synopsis\":\"\",\"long_synopsis\":\"\",\"version_offset\":13,\"position\":1,\"is_chapter\":false,\"has_snippet\":false,\"segment\":{\"type\":\"music\",\"pid\":\"p065l7t3\",\"duration\":240,\"primary_contributor\":{\"pid\":\"p012dc44\",\"musicbrainz_gid\":\"63aa26c3-d59b-4da4-84ac-716b54f1ef4d\",\"name\":\"Tame Impala\"},\"artist\":\"Tame Impala\",\"track_title\":\"\\\\u0027Cause I\\\\u0027m A Man\",\"track_number\":null,\"publisher\":\"BMG\",\"record_label\":\"FICTION\",\"release_title\":null,\"record_id\":\"n3p4fn\",\"catalogue_number\":null,\"contributions\":[{\"pid\":\"p012dc44\",\"name\":\"Tame Impala\",\"role\":\"Performer\",\"musicbrainz_gid\":\"63aa26c3-d59b-4da4-84ac-716b54f1ef4d\"}],\"title\":\"\\\\u0027Cause I\\\\u0027m A Man\",\"short_synopsis\":null,\"medium_synopsis\":null,\"long_synopsis\":null}},{\"title\":null,\"pid\":\"p065l88b\",\"short_synopsis\":\"\",\"medium_synopsis\":\"\",\"long_synopsis\":\"\",\"version_offset\":252,\"position\":2,\"is_chapter\":false,\"has_snippet\":false,\"segment\":{\"type\":\"music\",\"pid\":\"p062b2jc\",\"duration\":203,\"primary_contributor\":{\"pid\":\"p012drp6\",\"musicbrainz_gid\":\"6efa29c6-9995-48e0-9eaf-3809464a39a7\",\"name\":\"Charlotte Gainsbourg\"},\"artist\":\"Charlotte Gainsbourg\",\"track_title\":\"Sylvia Says\",\"track_number\":null,\"publisher\":\"opyright Control\\\\/Because Editions\\\\/Headbangers Publishing\",\"record_label\":\"Because Music\",\"release_title\":null,\"record_id\":\"n4ww2f\",\"catalogue_number\":null,\"contributions\":[{\"pid\":\"p012drp6\",\"name\":\"Charlotte Gainsbourg\",\"role\":\"Performer\",\"musicbrainz_gid\":\"6efa29c6-9995-48e0-9eaf-3809464a39a7\"}],\"title\":\"Sylvia Says\",\"short_synopsis\":null,\"medium_synopsis\":null,\"long_synopsis\":null}},{\"title\":null,\"pid\":\"p065l8jz\",\"short_synopsis\":\"\",\"medium_synopsis\":\"\",\"long_synopsis\":\"\",\"version_offset\":515,\"position\":3,\"is_chapter\":false,\"has_snippet\":false,\"segment\":{\"type\":\"music\",\"pid\":\"p065l8jx\",\"duration\":192,\"primary_contributor\":{\"pid\":\"p00ykrvd\",\"musicbrainz_gid\":\"4b585938-f271-45e2-b19a-91c634b5e396\",\"name\":\"Kate Bush\"},\"artist\":\"Kate Bush\",\"track_title\":\"Army Dreamers\",\"track_number\":null,\"publisher\":\"KATE BUSH MUSIC\",\"record_label\":\"EMI\",\"release_title\":null,\"record_id\":\"nzf4xf\",\"catalogue_number\":null,\"contributions\":[{\"pid\":\"p00ykrvd\",\"name\":\"Kate Bush\",\"role\":\"Performer\",\"musicbrainz_gid\":\"4b585938-f271-45e2-b19a-91c634b5e396\"}],\"title\":\"Army Dreamers\",\"short_synopsis\":null,\"medium_synopsis\":null,\"long_synopsis\":null}},{\"title\":null,\"pid\":\"p065l8tx\",\"short_synopsis\":\"\",\"medium_synopsis\":\"\",\"long_synopsis\":\"\",\"version_offset\":704,\"position\":4,\"is_chapter\":false,\"has_snippet\":false,\"segment\":{\"type\":\"music\",\"pid\":\"p065l8tw\",\"duration\":212,\"primary_contributor\":{\"pid\":\"p012ddn8\",\"musicbrainz_gid\":\"381086ea-f511-4aba-bdf9-71c753dc5077\",\"name\":\"Kendrick Lamar\"},\"artist\":\"Kendrick Lamar\",\"track_title\":\"Never Catch Me\",\"track_number\":\"001\",\"publisher\":\"Just Isn\\\\u0027t Music\",\"record_label\":\"Warp\",\"release_title\":\"You\\\\u0027re Dead\",\"record_id\":\"n2m55x\",\"catalogue_number\":null,\"contributions\":[{\"pid\":\"p012ddn8\",\"name\":\"Kendrick Lamar\",\"role\":\"Featured Artist\",\"musicbrainz_gid\":\"381086ea-f511-4aba-bdf9-71c753dc5077\"},{\"pid\":\"p012dc00\",\"name\":\"Flying Lotus\",\"role\":\"Performer\",\"musicbrainz_gid\":\"fc7376fe-1a6f-4414-b4a7-83f50ed59c92\"}],\"title\":\"Never Catch Me\",\"short_synopsis\":null,\"medium_synopsis\":null,\"long_synopsis\":null}},{\"title\":null,\"pid\":\"p065l8x7\",\"short_synopsis\":\"\",\"medium_synopsis\":\"\",\"long_synopsis\":\"\",\"version_offset\":1073,\"position\":5,\"is_chapter\":false,\"has_snippet\":false,\"segment\":{\"type\":\"music\",\"pid\":\"p065l8x4\",\"duration\":253,\"primary_contributor\":{\"pid\":\"p012d8dh\",\"musicbrainz_gid\":\"80b3cf5e-18fe-4c59-98c7-e5bb87210710\",\"name\":\"The Roots\"},\"artist\":\"The Roots\",\"track_title\":\"Don\\\\u0027t Feel Right\",\"track_number\":null,\"publisher\":\"None Given\",\"record_label\":\"Universal \\\\u200e\",\"release_title\":null,\"record_id\":\"n5nrvn\",\"catalogue_number\":null,\"contributions\":[{\"pid\":\"p012d8dh\",\"name\":\"The Roots\",\"role\":\"Performer\",\"musicbrainz_gid\":\"80b3cf5e-18fe-4c59-98c7-e5bb87210710\"}],\"title\":\"Don\\\\u0027t Feel Right\",\"short_synopsis\":null,\"medium_synopsis\":null,\"long_synopsis\":null}},{\"title\":null,\"pid\":\"p065l924\",\"short_synopsis\":\"\",\"medium_synopsis\":\"\",\"long_synopsis\":\"\",\"version_offset\":1369,\"position\":6,\"is_chapter\":false,\"has_snippet\":false,\"segment\":{\"type\":\"music\",\"pid\":\"p065bq4m\",\"duration\":216,\"primary_contributor\":{\"pid\":\"p012dbl1\",\"musicbrainz_gid\":\"a2accb58-6099-4cb5-a3c8-f6332f364db5\",\"name\":\"James\"},\"artist\":\"James\",\"track_title\":\"Better Than That\",\"track_number\":null,\"publisher\":\"BMG Rights Management (UK) Limited\",\"record_label\":\"BMG\",\"release_title\":null,\"record_id\":\"n5zdmm\",\"catalogue_number\":null,\"contributions\":[{\"pid\":\"p012dbl1\",\"name\":\"James\",\"role\":\"Performer\",\"musicbrainz_gid\":\"a2accb58-6099-4cb5-a3c8-f6332f364db5\"}],\"title\":\"Better Than That\",\"short_synopsis\":null,\"medium_synopsis\":null,\"long_synopsis\":null}},{\"title\":null,\"pid\":\"p065l962\",\"short_synopsis\":\"\",\"medium_synopsis\":\"\",\"long_synopsis\":\"\",\"version_offset\":1585,\"position\":7,\"is_chapter\":false,\"has_snippet\":false,\"segment\":{\"type\":\"music\",\"pid\":\"p065l95r\",\"duration\":235,\"primary_contributor\":{\"pid\":\"p012d7dc\",\"musicbrainz_gid\":\"309c62ba-7a22-4277-9f67-4a162526d18a\",\"name\":\"Beck\"},\"artist\":\"Beck\",\"track_title\":\"Loser\",\"track_number\":null,\"publisher\":\"CYANIDE BREATHMINT MUSIC\",\"record_label\":\"Geffen\",\"release_title\":null,\"record_id\":\"nz2pj4\",\"catalogue_number\":null,\"contributions\":[{\"pid\":\"p012d7dc\",\"name\":\"Beck\",\"role\":\"Performer\",\"musicbrainz_gid\":\"309c62ba-7a22-4277-9f67-4a162526d18a\"}],\"title\":\"Loser\",\"short_synopsis\":null,\"medium_synopsis\":null,\"long_synopsis\":null}},{\"title\":null,\"pid\":\"p065l99r\",\"short_synopsis\":\"\",\"medium_synopsis\":\"\",\"long_synopsis\":\"\",\"version_offset\":1957,\"position\":8,\"is_chapter\":false,\"has_snippet\":false,\"segment\":{\"type\":\"music\",\"pid\":\"p02yk7kp\",\"duration\":277,\"primary_contributor\":{\"pid\":\"p00zzbz3\",\"musicbrainz_gid\":\"2944824d-4c26-476f-a981-be849081942f\",\"name\":\"Nina Simone\"},\"artist\":\"Nina Simone\",\"track_title\":\"Baltimore\",\"track_number\":null,\"publisher\":\"Universal\\\\/MCA Music\",\"record_label\":\"Epic\",\"release_title\":\"Baltimore\",\"record_id\":\"nz5qpn\",\"catalogue_number\":null,\"contributions\":[{\"pid\":\"p00zzbz3\",\"name\":\"Nina Simone\",\"role\":\"Performer\",\"musicbrainz_gid\":\"2944824d-4c26-476f-a981-be849081942f\"}],\"title\":\"Baltimore\",\"short_synopsis\":null,\"medium_synopsis\":null,\"long_synopsis\":null}},{\"title\":null,\"pid\":\"p065l9g4\",\"short_synopsis\":\"\",\"medium_synopsis\":\"\",\"long_synopsis\":\"\",\"version_offset\":2225,\"position\":9,\"is_chapter\":false,\"has_snippet\":false,\"segment\":{\"type\":\"music\",\"pid\":\"p063s7vd\",\"duration\":231,\"primary_contributor\":{\"pid\":\"p012drng\",\"musicbrainz_gid\":\"c05a93d1-c9c4-41f4-8493-f55858c8212d\",\"name\":\"Gaz Coombes\"},\"artist\":\"Gaz Coombes\",\"track_title\":\"Walk The Walk\",\"track_number\":null,\"publisher\":\"Kobalt Music Publishing Ltd.\",\"record_label\":\"Hot Fruit Recordings\\\\/Caroline International\",\"release_title\":null,\"record_id\":\"n5z2fw\",\"catalogue_number\":null,\"contributions\":[{\"pid\":\"p012drng\",\"name\":\"Gaz Coombes\",\"role\":\"Performer\",\"musicbrainz_gid\":\"c05a93d1-c9c4-41f4-8493-f55858c8212d\"}],\"title\":\"Walk The Walk\",\"short_synopsis\":null,\"medium_synopsis\":null,\"long_synopsis\":null}},{\"title\":null,\"pid\":\"p065l9mj\",\"short_synopsis\":\"\",\"medium_synopsis\":\"\",\"long_synopsis\":\"\",\"version_offset\":2589,\"position\":10,\"is_chapter\":false,\"has_snippet\":false,\"segment\":{\"type\":\"music\",\"pid\":\"p065l9mh\",\"duration\":152,\"primary_contributor\":{\"pid\":\"p065l9mk\",\"musicbrainz_gid\":null,\"name\":\"Aisha Bhadru\"},\"artist\":\"Aisha Bhadru\",\"track_title\":\"Fossil Fuels\",\"track_number\":null,\"publisher\":\"None Given\",\"record_label\":\"Nettwerk Records\",\"release_title\":null,\"record_id\":\"n5nrv4\",\"catalogue_number\":null,\"contributions\":[{\"pid\":\"p065l9mk\",\"name\":\"Aisha Bhadru\",\"role\":\"Performer\",\"musicbrainz_gid\":null}],\"title\":\"Fossil Fuels\",\"short_synopsis\":null,\"medium_synopsis\":null,\"long_synopsis\":null}},{\"title\":null,\"pid\":\"p065l9pp\",\"short_synopsis\":\"\",\"medium_synopsis\":\"\",\"long_synopsis\":\"\",\"version_offset\":2735,\"position\":11,\"is_chapter\":false,\"has_snippet\":false,\"segment\":{\"type\":\"music\",\"pid\":\"p065l9pm\",\"duration\":277,\"primary_contributor\":{\"pid\":\"p012d89d\",\"musicbrainz_gid\":\"6f607087-9c46-4bb2-a884-e4efc764554c\",\"name\":\"The Streets\"},\"artist\":\"The Streets\",\"track_title\":\"Blinded By The Lights\",\"track_number\":null,\"publisher\":\"UNIVERSAL MUSIC PUBLISHING PGM LIMITED\",\"record_label\":null,\"release_title\":null,\"record_id\":\"nz2h8d\",\"catalogue_number\":null,\"contributions\":[{\"pid\":\"p012d89d\",\"name\":\"The Streets\",\"role\":\"Performer\",\"musicbrainz_gid\":\"6f607087-9c46-4bb2-a884-e4efc764554c\"}],\"title\":\"Blinded By The Lights\",\"short_synopsis\":null,\"medium_synopsis\":null,\"long_synopsis\":null}},{\"title\":null,\"pid\":\"p065l9t5\",\"short_synopsis\":\"\",\"medium_synopsis\":\"\",\"long_synopsis\":\"\",\"version_offset\":3097,\"position\":12,\"is_chapter\":false,\"has_snippet\":false,\"segment\":{\"type\":\"music\",\"pid\":\"p040l726\",\"duration\":267,\"primary_contributor\":{\"pid\":\"p012dqd2\",\"musicbrainz_gid\":\"4d8afa16-4018-4ca8-8b5e-ede8f9314562\",\"name\":\"The Animals\"},\"artist\":\"The Animals\",\"track_title\":\"House Of The Rising Sun\",\"track_number\":null,\"publisher\":\"K.PROWSE MUSIC\",\"record_label\":\"EMI\",\"release_title\":null,\"record_id\":\"n2vbdb\",\"catalogue_number\":null,\"contributions\":[{\"pid\":\"p012dqd2\",\"name\":\"The Animals\",\"role\":\"Performer\",\"musicbrainz_gid\":\"4d8afa16-4018-4ca8-8b5e-ede8f9314562\"}],\"title\":\"House Of The Rising Sun\",\"short_synopsis\":null,\"medium_synopsis\":null,\"long_synopsis\":null}},{\"title\":null,\"pid\":\"p065l9xz\",\"short_synopsis\":\"\",\"medium_synopsis\":\"\",\"long_synopsis\":\"\",\"version_offset\":3363,\"position\":13,\"is_chapter\":false,\"has_snippet\":false,\"segment\":{\"type\":\"music\",\"pid\":\"p062d59v\",\"duration\":239,\"primary_contributor\":{\"pid\":\"p01kgfr0\",\"musicbrainz_gid\":\"812c46e5-3d65-4e80-ada8-269450c5621b\",\"name\":\"Jordan Rakei\"},\"artist\":\"Jordan Rakei\",\"track_title\":\"Eye To Eye\",\"track_number\":null,\"publisher\":\"Copyright Control\",\"record_label\":\"Ninja Tune\",\"release_title\":null,\"record_id\":\"n4gxbb\",\"catalogue_number\":null,\"contributions\":[{\"pid\":\"p01kgfr0\",\"name\":\"Jordan Rakei\",\"role\":\"Performer\",\"musicbrainz_gid\":\"812c46e5-3d65-4e80-ada8-269450c5621b\"}],\"title\":\"Eye To Eye\",\"short_synopsis\":null,\"medium_synopsis\":null,\"long_synopsis\":null}},{\"title\":null,\"pid\":\"p065lb3y\",\"short_synopsis\":\"\",\"medium_synopsis\":\"\",\"long_synopsis\":\"\",\"version_offset\":3634,\"position\":14,\"is_chapter\":false,\"has_snippet\":false,\"segment\":{\"type\":\"music\",\"pid\":\"p065lb3x\",\"duration\":169,\"primary_contributor\":{\"pid\":\"p012d99l\",\"musicbrainz_gid\":\"e795e03d-b5d5-4a5f-834d-162cfb308a2c\",\"name\":\"PJ Harvey\"},\"artist\":\"PJ Harvey\",\"track_title\":\"C\\\\u0027Mon Billy\",\"track_number\":null,\"publisher\":\"HOTHEAD MUSIC\",\"record_label\":\"Island\",\"release_title\":null,\"record_id\":\"nz2r65\",\"catalogue_number\":null,\"contributions\":[{\"pid\":\"p012d99l\",\"name\":\"PJ Harvey\",\"role\":\"Performer\",\"musicbrainz_gid\":\"e795e03d-b5d5-4a5f-834d-162cfb308a2c\"}],\"title\":\"C\\\\u0027Mon Billy\",\"short_synopsis\":null,\"medium_synopsis\":null,\"long_synopsis\":null}},{\"title\":null,\"pid\":\"p065lb9c\",\"short_synopsis\":\"\",\"medium_synopsis\":\"\",\"long_synopsis\":\"\",\"version_offset\":3798,\"position\":15,\"is_chapter\":false,\"has_snippet\":false,\"segment\":{\"type\":\"music\",\"pid\":\"p063y5mr\",\"duration\":226,\"primary_contributor\":{\"pid\":\"p012dbxp\",\"musicbrainz_gid\":\"c8a9ae11-63bf-409b-8bf3-a96b3712a2ff\",\"name\":\"Little Dragon\"},\"artist\":\"Little Dragon\",\"track_title\":\"Sway Daisy\",\"track_number\":null,\"publisher\":\"Lilla Draken Recordings Ab\\\\/Kobalt Music Publishing (Stim)\",\"record_label\":\"Because Music\",\"release_title\":null,\"record_id\":\"n4m2v5\",\"catalogue_number\":null,\"contributions\":[{\"pid\":\"p012dbxp\",\"name\":\"Little Dragon\",\"role\":\"Performer\",\"musicbrainz_gid\":\"c8a9ae11-63bf-409b-8bf3-a96b3712a2ff\"}],\"title\":\"Sway Daisy\",\"short_synopsis\":null,\"medium_synopsis\":null,\"long_synopsis\":null}},{\"title\":null,\"pid\":\"p065lbl0\",\"short_synopsis\":\"\",\"medium_synopsis\":\"\",\"long_synopsis\":\"\",\"version_offset\":4134,\"position\":16,\"is_chapter\":false,\"has_snippet\":false,\"segment\":{\"type\":\"music\",\"pid\":\"p065lbkz\",\"duration\":238,\"primary_contributor\":{\"pid\":\"p012dv1n\",\"musicbrainz_gid\":\"9ddce51c-2b75-4b3e-ac8c-1db09e7c89c6\",\"name\":\"Burial\"},\"artist\":\"Burial\",\"track_title\":\"Archangel\",\"track_number\":null,\"publisher\":\"DOMINO PUBLISHING COMPANY LIMITED\",\"record_label\":\"Hyperdub\",\"release_title\":null,\"record_id\":\"nz23rd\",\"catalogue_number\":null,\"contributions\":[{\"pid\":\"p012dv1n\",\"name\":\"Burial\",\"role\":\"Performer\",\"musicbrainz_gid\":\"9ddce51c-2b75-4b3e-ac8c-1db09e7c89c6\"}],\"title\":\"Archangel\",\"short_synopsis\":null,\"medium_synopsis\":null,\"long_synopsis\":null}},{\"title\":null,\"pid\":\"p065lbq6\",\"short_synopsis\":\"\",\"medium_synopsis\":\"\",\"long_synopsis\":\"\",\"version_offset\":4381,\"position\":17,\"is_chapter\":false,\"has_snippet\":false,\"segment\":{\"type\":\"music\",\"pid\":\"p065lbq5\",\"duration\":223,\"primary_contributor\":{\"pid\":\"p00zmbgc\",\"musicbrainz_gid\":\"373faa02-74d7-4b1d-9b47-7574ad510f8d\",\"name\":\"First Aid Kit\"},\"artist\":\"First Aid Kit\",\"track_title\":\"Master Pretender\",\"track_number\":\"001\",\"publisher\":\"Warner Chappell Music Scandinavia AB\",\"record_label\":\"Sony Music\",\"release_title\":\"Stay Gold\",\"record_id\":\"n2gjmp\",\"catalogue_number\":null,\"contributions\":[{\"pid\":\"p00zmbgc\",\"name\":\"First Aid Kit\",\"role\":\"Performer\",\"musicbrainz_gid\":\"373faa02-74d7-4b1d-9b47-7574ad510f8d\"}],\"title\":\"Master Pretender\",\"short_synopsis\":null,\"medium_synopsis\":null,\"long_synopsis\":null}},{\"title\":null,\"pid\":\"p065lbsl\",\"short_synopsis\":\"\",\"medium_synopsis\":\"\",\"long_synopsis\":\"\",\"version_offset\":4644,\"position\":18,\"is_chapter\":false,\"has_snippet\":false,\"segment\":{\"type\":\"music\",\"pid\":\"p065lbsk\",\"duration\":184,\"primary_contributor\":{\"pid\":\"p012d7gz\",\"musicbrainz_gid\":\"36bfa85f-737b-41db-a8fc-b8825850ffc3\",\"name\":\"Pavement\"},\"artist\":\"Pavement\",\"track_title\":\"Cut Your Hair\",\"track_number\":\"1\",\"publisher\":\"Treble Kicker Publishing\\\\/Domino Publishi\",\"record_label\":\"Domino\",\"release_title\":\"CD SINGLE\",\"record_id\":\"nz25mp\",\"catalogue_number\":null,\"contributions\":[{\"pid\":\"p012d7gz\",\"name\":\"Pavement\",\"role\":\"Performer\",\"musicbrainz_gid\":\"36bfa85f-737b-41db-a8fc-b8825850ffc3\"}],\"title\":\"Cut Your Hair\",\"short_synopsis\":null,\"medium_synopsis\":null,\"long_synopsis\":null}},{\"title\":null,\"pid\":\"p065lbxq\",\"short_synopsis\":\"\",\"medium_synopsis\":\"\",\"long_synopsis\":\"\",\"version_offset\":4945,\"position\":19,\"is_chapter\":false,\"has_snippet\":false,\"segment\":{\"type\":\"music\",\"pid\":\"p060x0cl\",\"duration\":190,\"primary_contributor\":{\"pid\":\"p04sjxrq\",\"musicbrainz_gid\":\"29a2e15e-b14f-42ca-8f65-d52479872452\",\"name\":\"Goat Girl\"},\"artist\":\"Goat Girl\",\"track_title\":\"The Man\",\"track_number\":null,\"publisher\":\"Kobalt Music Publishing\",\"record_label\":\"Rough Trade Records\",\"release_title\":null,\"record_id\":\"n4qczx\",\"catalogue_number\":null,\"contributions\":[{\"pid\":\"p04sjxrq\",\"name\":\"Goat Girl\",\"role\":\"Performer\",\"musicbrainz_gid\":\"29a2e15e-b14f-42ca-8f65-d52479872452\"}],\"title\":\"The Man\",\"short_synopsis\":null,\"medium_synopsis\":null,\"long_synopsis\":null}},{\"title\":null,\"pid\":\"p065lc55\",\"short_synopsis\":\"\",\"medium_synopsis\":\"\",\"long_synopsis\":\"\",\"version_offset\":5562,\"position\":20,\"is_chapter\":false,\"has_snippet\":false,\"segment\":{\"type\":\"music\",\"pid\":\"p063rntj\",\"duration\":149,\"primary_contributor\":{\"pid\":\"p012dw4j\",\"musicbrainz_gid\":\"d50548a0-3cfd-4d7a-964b-0aef6545d819\",\"name\":\"O.D.B.\"},\"artist\":\"O.D.B.\",\"track_title\":\"Shimmy Shimmy Ya\",\"track_number\":null,\"publisher\":\"Wu-Tang\\\\/Ramecca\",\"record_label\":\"Elektra\",\"release_title\":\"The Dirty Story: The Best Of ODB\",\"record_id\":\"nznb3n\",\"catalogue_number\":null,\"contributions\":[{\"pid\":\"p012dw4j\",\"name\":\"O.D.B.\",\"role\":\"Performer\",\"musicbrainz_gid\":\"d50548a0-3cfd-4d7a-964b-0aef6545d819\"}],\"title\":\"Shimmy Shimmy Ya\",\"short_synopsis\":null,\"medium_synopsis\":null,\"long_synopsis\":null}},{\"title\":null,\"pid\":\"p065lc9n\",\"short_synopsis\":\"\",\"medium_synopsis\":\"\",\"long_synopsis\":\"\",\"version_offset\":5709,\"position\":21,\"is_chapter\":false,\"has_snippet\":false,\"segment\":{\"type\":\"music\",\"pid\":\"p0633rv2\",\"duration\":181,\"primary_contributor\":{\"pid\":\"p01d6bjt\",\"musicbrainz_gid\":\"7eeedd8a-f7e5-44fd-a727-f9249407dd54\",\"name\":\"Bodega\"},\"artist\":\"Bodega\",\"track_title\":\"How Did This Happen?!\",\"track_number\":null,\"publisher\":\"Copyright Control 2017\",\"record_label\":\"What\\\\u0027s Your Rupture?\",\"release_title\":null,\"record_id\":\"n4mpg9\",\"catalogue_number\":null,\"contributions\":[{\"pid\":\"p01d6bjt\",\"name\":\"Bodega\",\"role\":\"Performer\",\"musicbrainz_gid\":\"7eeedd8a-f7e5-44fd-a727-f9249407dd54\"}],\"title\":\"How Did This Happen?!\",\"short_synopsis\":null,\"medium_synopsis\":null,\"long_synopsis\":null}},{\"title\":null,\"pid\":\"p065lcj6\",\"short_synopsis\":\"\",\"medium_synopsis\":\"\",\"long_synopsis\":\"\",\"version_offset\":6112,\"position\":22,\"is_chapter\":false,\"has_snippet\":false,\"segment\":{\"type\":\"music\",\"pid\":\"p065lcj5\",\"duration\":214,\"primary_contributor\":{\"pid\":\"p00zzbbn\",\"musicbrainz_gid\":\"8f92558c-2baa-4758-8c38-615519e9deda\",\"name\":\"The Clash\"},\"artist\":\"The Clash\",\"track_title\":\"Rock The Casbah\",\"track_number\":null,\"publisher\":\"NINEDEN\",\"record_label\":\"COLUMBIA\",\"release_title\":null,\"record_id\":\"nz382j\",\"catalogue_number\":null,\"contributions\":[{\"pid\":\"p00zzbbn\",\"name\":\"The Clash\",\"role\":\"Performer\",\"musicbrainz_gid\":\"8f92558c-2baa-4758-8c38-615519e9deda\"}],\"title\":\"Rock The Casbah\",\"short_synopsis\":null,\"medium_synopsis\":null,\"long_synopsis\":null}},{\"title\":null,\"pid\":\"p065lcll\",\"short_synopsis\":\"\",\"medium_synopsis\":\"\",\"long_synopsis\":\"\",\"version_offset\":6406,\"position\":23,\"is_chapter\":false,\"has_snippet\":false,\"segment\":{\"type\":\"music\",\"pid\":\"p065lclj\",\"duration\":168,\"primary_contributor\":{\"pid\":\"p012dry3\",\"musicbrainz_gid\":\"2ff0dfc6-0542-4bbc-a44a-60605c074ba6\",\"name\":\"Real Estate\"},\"artist\":\"Real Estate\",\"track_title\":\"It\\\\u0027s Real\",\"track_number\":null,\"publisher\":\"MCIV Publishing (SESAC)\\\\/Domino Publishin\",\"record_label\":\"DOMINO\",\"release_title\":null,\"record_id\":\"nzn96p\",\"catalogue_number\":null,\"contributions\":[{\"pid\":\"p012dry3\",\"name\":\"Real Estate\",\"role\":\"Performer\",\"musicbrainz_gid\":\"2ff0dfc6-0542-4bbc-a44a-60605c074ba6\"}],\"title\":\"It\\\\u0027s Real\",\"short_synopsis\":null,\"medium_synopsis\":null,\"long_synopsis\":null}},{\"title\":null,\"pid\":\"p065lcm7\",\"short_synopsis\":\"\",\"medium_synopsis\":\"\",\"long_synopsis\":\"\",\"version_offset\":6574,\"position\":24,\"is_chapter\":false,\"has_snippet\":false,\"segment\":{\"type\":\"music\",\"pid\":\"p064kpk3\",\"duration\":214,\"primary_contributor\":{\"pid\":\"p032fsy5\",\"musicbrainz_gid\":\"b959b30d-156d-4031-a995-47dec996e6c9\",\"name\":\"Palace Winter\"},\"artist\":\"Palace Winter\",\"track_title\":\"Empire\",\"track_number\":null,\"publisher\":\"Copyright Control\",\"record_label\":\"Tambourhinoceros\",\"release_title\":null,\"record_id\":\"n4mj4p\",\"catalogue_number\":null,\"contributions\":[{\"pid\":\"p032fsy5\",\"name\":\"Palace Winter\",\"role\":\"Performer\",\"musicbrainz_gid\":\"b959b30d-156d-4031-a995-47dec996e6c9\"}],\"title\":\"Empire\",\"short_synopsis\":null,\"medium_synopsis\":null,\"long_synopsis\":null}},{\"title\":null,\"pid\":\"p065lcpw\",\"short_synopsis\":\"\",\"medium_synopsis\":\"\",\"long_synopsis\":\"\",\"version_offset\":6783,\"position\":25,\"is_chapter\":false,\"has_snippet\":false,\"segment\":{\"type\":\"music\",\"pid\":\"p065lcps\",\"duration\":185,\"primary_contributor\":{\"pid\":\"p012d983\",\"musicbrainz_gid\":\"dfe9a7c4-8cf2-47f4-9dcb-d233c2b86ec3\",\"name\":\"Amy Winehouse\"},\"artist\":\"Amy Winehouse\",\"track_title\":\"Tears Dry On Their Own\",\"track_number\":null,\"publisher\":\"EMI Music Publishing\\\\/Jobete Music\\\\/EMI Mu\",\"record_label\":\"Island\",\"release_title\":\"(CD Single)\",\"record_id\":\"nznr44\",\"catalogue_number\":null,\"contributions\":[{\"pid\":\"p012d983\",\"name\":\"Amy Winehouse\",\"role\":\"Performer\",\"musicbrainz_gid\":\"dfe9a7c4-8cf2-47f4-9dcb-d233c2b86ec3\"}],\"title\":\"Tears Dry On Their Own\",\"short_synopsis\":null,\"medium_synopsis\":null,\"long_synopsis\":null}},{\"title\":null,\"pid\":\"p065lcrx\",\"short_synopsis\":\"\",\"medium_synopsis\":\"\",\"long_synopsis\":\"\",\"version_offset\":7030,\"position\":26,\"is_chapter\":false,\"has_snippet\":false,\"segment\":{\"type\":\"music\",\"pid\":\"p065lcrw\",\"duration\":144,\"primary_contributor\":{\"pid\":\"p012dq7g\",\"musicbrainz_gid\":\"c26c3822-451f-4545-b55a-bd09a3c815ae\",\"name\":\"The Auteurs\"},\"artist\":\"The Auteurs\",\"track_title\":\"Lenny Valentino\",\"track_number\":null,\"publisher\":\"POLYGRAM MUSIC\",\"record_label\":null,\"release_title\":null,\"record_id\":\"nz2ffv\",\"catalogue_number\":null,\"contributions\":[{\"pid\":\"p012dq7g\",\"name\":\"The Auteurs\",\"role\":\"Performer\",\"musicbrainz_gid\":\"c26c3822-451f-4545-b55a-bd09a3c815ae\"}],\"title\":\"Lenny Valentino\",\"short_synopsis\":null,\"medium_synopsis\":null,\"long_synopsis\":null}},{\"title\":null,\"pid\":\"p065lcwh\",\"short_synopsis\":\"\",\"medium_synopsis\":\"\",\"long_synopsis\":\"\",\"version_offset\":7195,\"position\":27,\"is_chapter\":false,\"has_snippet\":false,\"segment\":{\"type\":\"music\",\"pid\":\"p065lcwd\",\"duration\":217,\"primary_contributor\":{\"pid\":\"p01kkxn4\",\"musicbrainz_gid\":\"a0cded3a-4ca3-4ddb-8e46-ed9037f30aea\",\"name\":\"Todd Terje\"},\"artist\":\"Todd Terje\",\"track_title\":\"Delorean Dynamite\",\"track_number\":\"001\",\"publisher\":\"Sony ATV\",\"record_label\":\"Olsen Records\",\"release_title\":\"It\\\\u0027s Album Time\",\"record_id\":\"nngnpq\",\"catalogue_number\":null,\"contributions\":[{\"pid\":\"p01kkxn4\",\"name\":\"Todd Terje\",\"role\":\"Performer\",\"musicbrainz_gid\":\"a0cded3a-4ca3-4ddb-8e46-ed9037f30aea\"}],\"title\":\"Delorean Dynamite\",\"short_synopsis\":null,\"medium_synopsis\":null,\"long_synopsis\":null}},{\"title\":null,\"pid\":\"p065ld1x\",\"short_synopsis\":\"\",\"medium_synopsis\":\"\",\"long_synopsis\":\"\",\"version_offset\":7406,\"position\":28,\"is_chapter\":false,\"has_snippet\":false,\"segment\":{\"type\":\"music\",\"pid\":\"p062fl2y\",\"duration\":238,\"primary_contributor\":{\"pid\":\"p05rs68v\",\"musicbrainz_gid\":\"f9d6fe4b-bd8a-45fe-b10d-d3939e74c016\",\"name\":\"Invisible Minds\"},\"artist\":\"Invisible Minds\",\"track_title\":\"The Cut Girl\",\"track_number\":null,\"publisher\":\"Strictly Confidential\",\"record_label\":\"Invisible Minds\",\"release_title\":null,\"record_id\":\"n4m6j2\",\"catalogue_number\":null,\"contributions\":[{\"pid\":\"p05rs68v\",\"name\":\"Invisible Minds\",\"role\":\"Performer\",\"musicbrainz_gid\":\"f9d6fe4b-bd8a-45fe-b10d-d3939e74c016\"},{\"pid\":\"p0667bt2\",\"name\":\"Howard Hobbs\",\"role\":\"Featured Artist\",\"musicbrainz_gid\":null}],\"title\":\"The Cut Girl\",\"short_synopsis\":null,\"medium_synopsis\":null,\"long_synopsis\":null}},{\"title\":\"Sunflower Bean Epiphany\",\"pid\":\"p065lddw\",\"short_synopsis\":\"\",\"medium_synopsis\":\"\",\"long_synopsis\":\"\",\"version_offset\":7960,\"position\":29,\"is_chapter\":false,\"has_snippet\":false,\"segment\":{\"type\":\"music\",\"pid\":\"p063rzyv\",\"duration\":223,\"primary_contributor\":{\"pid\":\"p02wgxc9\",\"musicbrainz_gid\":\"e8160bb0-f4ba-4577-9e82-04d8f7ddcca4\",\"name\":\"Sunflower Bean\"},\"artist\":\"Sunflower Bean\",\"track_title\":\"Twentytwo\",\"track_number\":null,\"publisher\":\"Lucky Number Music\\\\/BMG Rights Management\",\"record_label\":\"Lucky Number\",\"release_title\":null,\"record_id\":\"n4m6pf\",\"catalogue_number\":null,\"contributions\":[{\"pid\":\"p02wgxc9\",\"name\":\"Sunflower Bean\",\"role\":\"Performer\",\"musicbrainz_gid\":\"e8160bb0-f4ba-4577-9e82-04d8f7ddcca4\"}],\"title\":\"Twentytwo\",\"short_synopsis\":null,\"medium_synopsis\":null,\"long_synopsis\":null}},{\"title\":null,\"pid\":\"p065ldsd\",\"short_synopsis\":\"\",\"medium_synopsis\":\"\",\"long_synopsis\":\"\",\"version_offset\":8301,\"position\":30,\"is_chapter\":false,\"has_snippet\":false,\"segment\":{\"type\":\"music\",\"pid\":\"p065lds5\",\"duration\":251,\"primary_contributor\":{\"pid\":\"p012d8rw\",\"musicbrainz_gid\":\"b5fa29f1-6c22-4321-a488-b5f363b06b06\",\"name\":\"The Stone Roses\"},\"artist\":\"The Stone Roses\",\"track_title\":\"Fools Gold\",\"track_number\":null,\"publisher\":\"ZOMBA MUSIC\",\"record_label\":\"Silvertone\",\"release_title\":null,\"record_id\":\"nz29f6\",\"catalogue_number\":null,\"contributions\":[{\"pid\":\"p012d8rw\",\"name\":\"The Stone Roses\",\"role\":\"Performer\",\"musicbrainz_gid\":\"b5fa29f1-6c22-4321-a488-b5f363b06b06\"}],\"title\":\"Fools Gold\",\"short_synopsis\":null,\"medium_synopsis\":null,\"long_synopsis\":null}},{\"title\":null,\"pid\":\"p065lf19\",\"short_synopsis\":\"\",\"medium_synopsis\":\"\",\"long_synopsis\":\"\",\"version_offset\":8507,\"position\":31,\"is_chapter\":false,\"has_snippet\":false,\"segment\":{\"type\":\"music\",\"pid\":\"p065lf15\",\"duration\":250,\"primary_contributor\":{\"pid\":\"p012d8fl\",\"musicbrainz_gid\":\"87c5dedd-371d-4a53-9f7f-80522fb7f3cb\",\"name\":\"Bj\\\\u00f6rk\"},\"artist\":\"Bj\\\\u00f6rk\",\"track_title\":\"Human Behaviour\",\"track_number\":null,\"publisher\":\"POLYGRAM\",\"record_label\":\"One Little Indian\",\"release_title\":null,\"record_id\":\"nz26wf\",\"catalogue_number\":null,\"contributions\":[{\"pid\":\"p012d8fl\",\"name\":\"Bj\\\\u00f6rk\",\"role\":\"Performer\",\"musicbrainz_gid\":\"87c5dedd-371d-4a53-9f7f-80522fb7f3cb\"}],\"title\":\"Human Behaviour\",\"short_synopsis\":null,\"medium_synopsis\":null,\"long_synopsis\":null}},{\"title\":null,\"pid\":\"p065lf59\",\"short_synopsis\":\"\",\"medium_synopsis\":\"\",\"long_synopsis\":\"\",\"version_offset\":8754,\"position\":32,\"is_chapter\":false,\"has_snippet\":false,\"segment\":{\"type\":\"music\",\"pid\":\"p063rx0r\",\"duration\":243,\"primary_contributor\":{\"pid\":\"p012dprg\",\"musicbrainz_gid\":\"3c8ff4c9-b5b9-4e78-ad9d-5157c323de24\",\"name\":\"Wye Oak\"},\"artist\":\"Wye Oak\",\"track_title\":\"It Was Not Natural\",\"track_number\":null,\"publisher\":\"Sub Pop Publishing\",\"record_label\":\"Merge Records\",\"release_title\":null,\"record_id\":\"n5znnx\",\"catalogue_number\":null,\"contributions\":[{\"pid\":\"p012dprg\",\"name\":\"Wye Oak\",\"role\":\"Performer\",\"musicbrainz_gid\":\"3c8ff4c9-b5b9-4e78-ad9d-5157c323de24\"}],\"title\":\"It Was Not Natural\",\"short_synopsis\":null,\"medium_synopsis\":null,\"long_synopsis\":null}},{\"title\":null,\"pid\":\"p065lfvs\",\"short_synopsis\":\"\",\"medium_synopsis\":\"\",\"long_synopsis\":\"\",\"version_offset\":9144,\"position\":33,\"is_chapter\":false,\"has_snippet\":false,\"segment\":{\"type\":\"music\",\"pid\":\"p065lfvq\",\"duration\":149,\"primary_contributor\":{\"pid\":\"p012d8fd\",\"musicbrainz_gid\":\"87ac7e25-f278-47a0-b109-5eb131dc96b6\",\"name\":\"The Skatalites\"},\"artist\":\"The Skatalites\",\"track_title\":\"Guns Of Navarone\",\"track_number\":null,\"publisher\":\"SHAPIRO BERNSTEIN\",\"record_label\":\"Trojan\",\"release_title\":null,\"record_id\":\"nz4b95\",\"catalogue_number\":null,\"contributions\":[{\"pid\":\"p012d8fd\",\"name\":\"The Skatalites\",\"role\":\"Performer\",\"musicbrainz_gid\":\"87ac7e25-f278-47a0-b109-5eb131dc96b6\"}],\"title\":\"Guns Of Navarone\",\"short_synopsis\":null,\"medium_synopsis\":null,\"long_synopsis\":null}},{\"title\":null,\"pid\":\"p065lg1q\",\"short_synopsis\":\"\",\"medium_synopsis\":\"\",\"long_synopsis\":\"\",\"version_offset\":9292,\"position\":34,\"is_chapter\":false,\"has_snippet\":false,\"segment\":{\"type\":\"music\",\"pid\":\"p064jtf2\",\"duration\":196,\"primary_contributor\":{\"pid\":\"p05l1nbl\",\"musicbrainz_gid\":\"4dbf34ad-4156-4587-8532-4219cb4fa373\",\"name\":\"Mattiel\"},\"artist\":\"Mattiel\",\"track_title\":\"Count Your Blessings\",\"track_number\":null,\"publisher\":\"Copyright Control\",\"record_label\":\"Heavenly Recordings\",\"release_title\":null,\"record_id\":\"n4mx4d\",\"catalogue_number\":null,\"contributions\":[{\"pid\":\"p05l1nbl\",\"name\":\"Mattiel\",\"role\":\"Performer\",\"musicbrainz_gid\":\"4dbf34ad-4156-4587-8532-4219cb4fa373\"}],\"title\":\"Count Your Blessings\",\"short_synopsis\":null,\"medium_synopsis\":null,\"long_synopsis\":null}},{\"title\":null,\"pid\":\"p065lg60\",\"short_synopsis\":\"\",\"medium_synopsis\":\"\",\"long_synopsis\":\"\",\"version_offset\":9606,\"position\":35,\"is_chapter\":false,\"has_snippet\":false,\"segment\":{\"type\":\"music\",\"pid\":\"p065lg5z\",\"duration\":204,\"primary_contributor\":{\"pid\":\"p012dccm\",\"musicbrainz_gid\":\"97b20fe3-0924-4a5f-9955-d0b5c5f9587f\",\"name\":\"Santigold\"},\"artist\":\"Santigold\",\"track_title\":\"L.E.S. Artistes\",\"track_number\":null,\"publisher\":\"None Given\",\"record_label\":\"Downtown\",\"release_title\":null,\"record_id\":\"nz498m\",\"catalogue_number\":null,\"contributions\":[{\"pid\":\"p012dccm\",\"name\":\"Santigold\",\"role\":\"Performer\",\"musicbrainz_gid\":\"97b20fe3-0924-4a5f-9955-d0b5c5f9587f\"}],\"title\":\"L.E.S. Artistes\",\"short_synopsis\":null,\"medium_synopsis\":null,\"long_synopsis\":null}},{\"title\":null,\"pid\":\"p065lgd8\",\"short_synopsis\":\"\",\"medium_synopsis\":\"\",\"long_synopsis\":\"\",\"version_offset\":9848,\"position\":36,\"is_chapter\":false,\"has_snippet\":false,\"segment\":{\"type\":\"music\",\"pid\":\"p0656hj8\",\"duration\":188,\"primary_contributor\":{\"pid\":\"p012dr8k\",\"musicbrainz_gid\":\"24aa5c20-a275-468a-93a9-b3d96b344b6c\",\"name\":\"Young Fathers\"},\"artist\":\"Young Fathers\",\"track_title\":\"Toy\",\"track_number\":null,\"publisher\":\"Just Isn\\\\u0027t Music\",\"record_label\":\"Ninja Tune\",\"release_title\":null,\"record_id\":\"n4mpd6\",\"catalogue_number\":null,\"contributions\":[{\"pid\":\"p012dr8k\",\"name\":\"Young Fathers\",\"role\":\"Performer\",\"musicbrainz_gid\":\"24aa5c20-a275-468a-93a9-b3d96b344b6c\"}],\"title\":\"Toy\",\"short_synopsis\":null,\"medium_synopsis\":null,\"long_synopsis\":null}},{\"title\":null,\"pid\":\"p065lgfb\",\"short_synopsis\":\"\",\"medium_synopsis\":\"\",\"long_synopsis\":\"\",\"version_offset\":10036,\"position\":37,\"is_chapter\":false,\"has_snippet\":false,\"segment\":{\"type\":\"music\",\"pid\":\"p065lgf8\",\"duration\":133,\"primary_contributor\":{\"pid\":\"p012d9jt\",\"musicbrainz_gid\":\"42e49814-6058-431c-80e2-a3aab424060d\",\"name\":\"White Denim\"},\"artist\":\"White Denim\",\"track_title\":\"Let\\\\u0027s Talk About It\",\"track_number\":null,\"publisher\":\"COP.CON\",\"record_label\":\"Full Time Hobby\",\"release_title\":\"CD SINGLE\",\"record_id\":\"nz23qc\",\"catalogue_number\":null,\"contributions\":[{\"pid\":\"p012d9jt\",\"name\":\"White Denim\",\"role\":\"Performer\",\"musicbrainz_gid\":\"42e49814-6058-431c-80e2-a3aab424060d\"}],\"title\":\"Let\\\\u0027s Talk About It\",\"short_synopsis\":null,\"medium_synopsis\":null,\"long_synopsis\":null}},{\"title\":null,\"pid\":\"p065lgkr\",\"short_synopsis\":\"\",\"medium_synopsis\":\"\",\"long_synopsis\":\"\",\"version_offset\":10221,\"position\":38,\"is_chapter\":false,\"has_snippet\":false,\"segment\":{\"type\":\"music\",\"pid\":\"p065lgkq\",\"duration\":233,\"primary_contributor\":{\"pid\":\"p012d8wt\",\"musicbrainz_gid\":\"ba2f4f3b-0293-4bc8-bb94-2f73b5207343\",\"name\":\"Underworld\"},\"artist\":\"Underworld\",\"track_title\":\"Two Months Off\",\"track_number\":null,\"publisher\":\"WARNER-TAMBERLANE \\\\/ SHERLOCK HOLMES MUSI\",\"record_label\":\"JBO\",\"release_title\":null,\"record_id\":\"nz2n9v\",\"catalogue_number\":null,\"contributions\":[{\"pid\":\"p012d8wt\",\"name\":\"Underworld\",\"role\":\"Performer\",\"musicbrainz_gid\":\"ba2f4f3b-0293-4bc8-bb94-2f73b5207343\"}],\"title\":\"Two Months Off\",\"short_synopsis\":null,\"medium_synopsis\":null,\"long_synopsis\":null}},{\"title\":null,\"pid\":\"p065lgrp\",\"short_synopsis\":\"\",\"medium_synopsis\":\"\",\"long_synopsis\":\"\",\"version_offset\":10458,\"position\":39,\"is_chapter\":false,\"has_snippet\":false,\"segment\":{\"type\":\"music\",\"pid\":\"p065lgrm\",\"duration\":342,\"primary_contributor\":{\"pid\":\"p01hj6f1\",\"musicbrainz_gid\":\"770ccf83-47ce-4fa1-83ec-d8fc24269784\",\"name\":\"Klute\"},\"artist\":\"Klute\",\"track_title\":\"Ashram\",\"track_number\":null,\"publisher\":\"None Given\",\"record_label\":null,\"release_title\":\"Pendulum\",\"record_id\":\"nzwvrh\",\"catalogue_number\":null,\"contributions\":[{\"pid\":\"p01hj6f1\",\"name\":\"Klute\",\"role\":\"Performer\",\"musicbrainz_gid\":\"770ccf83-47ce-4fa1-83ec-d8fc24269784\"}],\"title\":\"Ashram\",\"short_synopsis\":null,\"medium_synopsis\":null,\"long_synopsis\":null}}]}'"
      ]
     },
     "execution_count": 43,
     "metadata": {},
     "output_type": "execute_result"
    }
   ],
   "source": [
    "response2.text"
   ]
  },
  {
   "cell_type": "code",
   "execution_count": 66,
   "metadata": {},
   "outputs": [
    {
     "data": {
      "text/plain": [
       "<Response [404]>"
      ]
     },
     "execution_count": 66,
     "metadata": {},
     "output_type": "execute_result"
    }
   ],
   "source": [
    "response3"
   ]
  },
  {
   "cell_type": "code",
   "execution_count": 65,
   "metadata": {},
   "outputs": [],
   "source": [
    "response3 = requests.get(\n",
    "#     'https://www.bbc.co.uk/programmes/b09y1wkb/segments.json',\n",
    "#     'https://www.bbc.co.uk/programmes/b0b11c0n/segments.json',\n",
    "    'https://www.bbc.co.uk/programmes/m0005l7w/segments.json',\n",
    "    headers=headers)"
   ]
  },
  {
   "cell_type": "code",
   "execution_count": null,
   "metadata": {},
   "outputs": [],
   "source": []
  }
 ],
 "metadata": {
  "kernelspec": {
   "display_name": "Python 3",
   "language": "python",
   "name": "python3"
  },
  "language_info": {
   "codemirror_mode": {
    "name": "ipython",
    "version": 3
   },
   "file_extension": ".py",
   "mimetype": "text/x-python",
   "name": "python",
   "nbconvert_exporter": "python",
   "pygments_lexer": "ipython3",
   "version": "3.6.5"
  }
 },
 "nbformat": 4,
 "nbformat_minor": 2
}
